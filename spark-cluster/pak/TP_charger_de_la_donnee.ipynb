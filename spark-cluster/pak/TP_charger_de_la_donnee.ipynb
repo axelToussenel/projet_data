{
 "cells": [
  {
   "cell_type": "markdown",
   "metadata": {},
   "source": [
    "# 0) chargement de spark"
   ]
  },
  {
   "cell_type": "code",
   "execution_count": null,
   "metadata": {},
   "outputs": [],
   "source": [
    "from pyspark.sql import SparkSession\n",
    "\n",
    "#sans se connecter au cluster\n",
    "#spark = SparkSession.builder.getOrCreate()\n",
    "\n",
    "spark = SparkSession.\\\n",
    "        builder.\\\n",
    "        appName(\"pyspark-notebook\").\\\n",
    "        master(\"spark://spark-master:7077\").\\\n",
    "        config(\"spark.executor.memory\", \"2g\").\\\n",
    "        getOrCreate() "
   ]
  },
  {
   "cell_type": "markdown",
   "metadata": {},
   "source": [
    "# 1) lire de la donnée"
   ]
  },
  {
   "cell_type": "markdown",
   "metadata": {},
   "source": [
    "## 1.1) lecture brute\n",
    "Chargez le fichier ville_1.csv dans une variable nommée df.\n",
    "\n",
    "Vous pouvez afficher votre donnée en utilisant la méthode take() ou la methode collect() de l'objet pyspark DataFrame (attention appeler collect() sur un dataframe est déconseillé si vous avez du vrai big data).\n",
    "\n",
    "L'objet possède aussi un attribut appelé dtypes, appelez cet attribut pour obtenir la liste des colonnes et leur type."
   ]
  },
  {
   "cell_type": "code",
   "execution_count": null,
   "metadata": {},
   "outputs": [],
   "source": [
    "path  = \"./data_velo/Villes/ville_1.csv\"\n",
    "# lecture d'un fichier de manière la plus brute\n",
    "df    = spark.read.load(path, format=\"csv\")\n",
    "df.dtypes"
   ]
  },
  {
   "cell_type": "markdown",
   "metadata": {},
   "source": [
    "## 1.2) lecture avec les entêtes\n",
    "Recharger le même fichier mais cette fois-ci utilisez l'option header pour rajouter les noms de colonnes à votre df.\n",
    "\n",
    "Appelez l'attribut dtypes et comparez la sortie avec celle de la lecture brute."
   ]
  },
  {
   "cell_type": "code",
   "execution_count": 5,
   "metadata": {},
   "outputs": [
    {
     "data": {
      "text/plain": [
       "[('id', 'string'),\n",
       " ('vitesse_a_pied', 'string'),\n",
       " ('vitesse_a_velo', 'string'),\n",
       " ('home', 'string'),\n",
       " ('travail', 'string'),\n",
       " ('sportif', 'string'),\n",
       " ('casseur', 'string'),\n",
       " ('statut', 'string'),\n",
       " ('salaire', 'string'),\n",
       " ('sexe', 'string'),\n",
       " ('age', 'string'),\n",
       " ('sportivite', 'string'),\n",
       " ('velo_perf_minimale', 'string')]"
      ]
     },
     "execution_count": 5,
     "metadata": {},
     "output_type": "execute_result"
    }
   ],
   "source": [
    "df = spark.read.format('csv').options(header=True).load(path)\n",
    "df.dtypes"
   ]
  },
  {
   "cell_type": "markdown",
   "metadata": {},
   "source": [
    "## 1.3) lecture avec les types détectés automatiquement\n",
    "Recharger le fichier avec  l'option inferShema.\n",
    "\n",
    "L'option 'inferSchema' permet de transformer les colonnes en types plus précis : entier  / booléens / chaines de caractères... bien sûr spark trouve les types uniquement si le fichier d'origine permet de les trouver de manière simple"
   ]
  },
  {
   "cell_type": "code",
   "execution_count": 4,
   "metadata": {},
   "outputs": [
    {
     "name": "stderr",
     "output_type": "stream",
     "text": [
      "                                                                                \r"
     ]
    },
    {
     "data": {
      "text/plain": [
       "[('id', 'int'),\n",
       " ('vitesse_a_pied', 'double'),\n",
       " ('vitesse_a_velo', 'double'),\n",
       " ('home', 'string'),\n",
       " ('travail', 'string'),\n",
       " ('sportif', 'boolean'),\n",
       " ('casseur', 'boolean'),\n",
       " ('statut', 'string'),\n",
       " ('salaire', 'double'),\n",
       " ('sexe', 'string'),\n",
       " ('age', 'int'),\n",
       " ('sportivite', 'double'),\n",
       " ('velo_perf_minimale', 'double')]"
      ]
     },
     "execution_count": 4,
     "metadata": {},
     "output_type": "execute_result"
    }
   ],
   "source": [
    "df = spark.read.format('csv').options(header=True, inferSchema=True).load(path)\n",
    "df.dtypes"
   ]
  },
  {
   "cell_type": "markdown",
   "metadata": {},
   "source": [
    "## 1.4) lecture avec schéma\n",
    "Il vous permet d'afficher le schéma de votre df, avec pour chaque colonne son nom, son type, et si elle accepte les valeurs nulles ou non. "
   ]
  },
  {
   "cell_type": "code",
   "execution_count": 7,
   "metadata": {},
   "outputs": [
    {
     "data": {
      "text/plain": [
       "StructType(List(StructField(id,StringType,true),StructField(vitesse_a_pied,StringType,true),StructField(vitesse_a_velo,StringType,true),StructField(home,StringType,true),StructField(travail,StringType,true),StructField(sportif,StringType,true),StructField(casseur,StringType,true),StructField(statut,StringType,true),StructField(salaire,StringType,true),StructField(sexe,StringType,true),StructField(age,StringType,true),StructField(sportivite,StringType,true),StructField(velo_perf_minimale,StringType,true)))"
      ]
     },
     "execution_count": 7,
     "metadata": {},
     "output_type": "execute_result"
    }
   ],
   "source": [
    "df.schema"
   ]
  },
  {
   "cell_type": "markdown",
   "metadata": {},
   "source": [
    "Vous avez aussi la méthode printSchema() qui permet d'afficher le shéma du df de manière plus lisible."
   ]
  },
  {
   "cell_type": "code",
   "execution_count": 8,
   "metadata": {},
   "outputs": [
    {
     "name": "stdout",
     "output_type": "stream",
     "text": [
      "root\n",
      " |-- id: string (nullable = true)\n",
      " |-- vitesse_a_pied: string (nullable = true)\n",
      " |-- vitesse_a_velo: string (nullable = true)\n",
      " |-- home: string (nullable = true)\n",
      " |-- travail: string (nullable = true)\n",
      " |-- sportif: string (nullable = true)\n",
      " |-- casseur: string (nullable = true)\n",
      " |-- statut: string (nullable = true)\n",
      " |-- salaire: string (nullable = true)\n",
      " |-- sexe: string (nullable = true)\n",
      " |-- age: string (nullable = true)\n",
      " |-- sportivite: string (nullable = true)\n",
      " |-- velo_perf_minimale: string (nullable = true)\n",
      "\n"
     ]
    }
   ],
   "source": [
    "df.printSchema()"
   ]
  },
  {
   "cell_type": "markdown",
   "metadata": {},
   "source": [
    "# 2) écriture de la dataframe sur le disque"
   ]
  },
  {
   "cell_type": "markdown",
   "metadata": {},
   "source": [
    "## 2.1) choix du format : csv"
   ]
  },
  {
   "cell_type": "code",
   "execution_count": 9,
   "metadata": {},
   "outputs": [
    {
     "name": "stderr",
     "output_type": "stream",
     "text": [
      "                                                                                \r"
     ]
    }
   ],
   "source": [
    "df.write.format(\"csv\").save(\"./csv\")"
   ]
  },
  {
   "cell_type": "markdown",
   "metadata": {},
   "source": [
    "## 2.2) choix du format : parquet"
   ]
  },
  {
   "cell_type": "code",
   "execution_count": 10,
   "metadata": {},
   "outputs": [
    {
     "name": "stderr",
     "output_type": "stream",
     "text": [
      "                                                                                \r"
     ]
    }
   ],
   "source": [
    "df.write.format(\"parquet\").save(\"./parquet\")"
   ]
  },
  {
   "cell_type": "markdown",
   "metadata": {},
   "source": [
    "## 2.3) choix du format : json"
   ]
  },
  {
   "cell_type": "code",
   "execution_count": 11,
   "metadata": {},
   "outputs": [
    {
     "name": "stderr",
     "output_type": "stream",
     "text": [
      "                                                                                \r"
     ]
    }
   ],
   "source": [
    "df.write.save(\"./json_data\", format=\"json\")"
   ]
  },
  {
   "cell_type": "code",
   "execution_count": 12,
   "metadata": {},
   "outputs": [
    {
     "name": "stdout",
     "output_type": "stream",
     "text": [
      "csv  parquet  ville  ville_1.csv\n"
     ]
    }
   ],
   "source": [
    "!ls ./data_velo/Villes/"
   ]
  },
  {
   "cell_type": "markdown",
   "metadata": {},
   "source": [
    "## 2.4) lecture de différents formats\n",
    "Vous pouvez choisir de lire le df sous un format ou un autre en utilisant l'argument format dans la fonction spark.read.load"
   ]
  },
  {
   "cell_type": "code",
   "execution_count": 15,
   "metadata": {},
   "outputs": [
    {
     "data": {
      "text/plain": [
       "DataFrame[age: string, casseur: string, home: string, id: string, salaire: string, sexe: string, sportif: string, sportivite: string, statut: string, travail: string, velo_perf_minimale: string, vitesse_a_pied: string, vitesse_a_velo: string]"
      ]
     },
     "execution_count": 15,
     "metadata": {},
     "output_type": "execute_result"
    }
   ],
   "source": [
    "spark.read.load(\"./json_data\", format=\"json\")"
   ]
  },
  {
   "cell_type": "code",
   "execution_count": 16,
   "metadata": {},
   "outputs": [
    {
     "data": {
      "text/plain": [
       "50"
      ]
     },
     "execution_count": 16,
     "metadata": {},
     "output_type": "execute_result"
    }
   ],
   "source": [
    "spark.read.load(\"./data_velo/Villes/ville/\", format=\"csv\").count()"
   ]
  },
  {
   "cell_type": "markdown",
   "metadata": {},
   "source": [
    "# 3) Calculer des résultats : les actions "
   ]
  },
  {
   "cell_type": "markdown",
   "metadata": {},
   "source": [
    "## 3.1) nombre de lignes : count\n",
    "Chargez les fichiers csv contenus dans le dossiers ./data_velo/Cyclistes/ dans un df nommé cyclistes, puis comptez les lignes du dataframe obtenu."
   ]
  },
  {
   "cell_type": "code",
   "execution_count": 23,
   "metadata": {},
   "outputs": [
    {
     "name": "stderr",
     "output_type": "stream",
     "text": [
      "                                                                                \r"
     ]
    },
    {
     "data": {
      "text/plain": [
       "[('id', 'int'),\n",
       " ('timestamp', 'string'),\n",
       " ('sur_velo', 'boolean'),\n",
       " ('velo', 'string'),\n",
       " ('vitesse', 'double'),\n",
       " ('position', 'string'),\n",
       " ('destination_finale', 'string')]"
      ]
     },
     "execution_count": 23,
     "metadata": {},
     "output_type": "execute_result"
    }
   ],
   "source": [
    "path1  = \"./data_velo/Cyclistes/\"\n",
    "df1 = spark.read.format('csv').options(header=True, inferSchema=True).load(path1)\n",
    "df1.dtypes"
   ]
  },
  {
   "cell_type": "code",
   "execution_count": 24,
   "metadata": {},
   "outputs": [
    {
     "name": "stderr",
     "output_type": "stream",
     "text": [
      "                                                                                \r"
     ]
    },
    {
     "data": {
      "text/plain": [
       "2232050"
      ]
     },
     "execution_count": 24,
     "metadata": {},
     "output_type": "execute_result"
    }
   ],
   "source": [
    "spark.read.load(\"./data_velo/Cyclistes/\", format=\"csv\").count()"
   ]
  },
  {
   "cell_type": "markdown",
   "metadata": {},
   "source": [
    "Afficher le schéma de ce nouveau df"
   ]
  },
  {
   "cell_type": "code",
   "execution_count": 25,
   "metadata": {},
   "outputs": [
    {
     "data": {
      "text/plain": [
       "<bound method DataFrame.printSchema of DataFrame[id: int, timestamp: string, sur_velo: boolean, velo: string, vitesse: double, position: string, destination_finale: string]>"
      ]
     },
     "execution_count": 25,
     "metadata": {},
     "output_type": "execute_result"
    }
   ],
   "source": [
    "df1.printSchema"
   ]
  },
  {
   "cell_type": "markdown",
   "metadata": {},
   "source": [
    "Affichez 10 lignes du df."
   ]
  },
  {
   "cell_type": "code",
   "execution_count": 31,
   "metadata": {},
   "outputs": [
    {
     "name": "stderr",
     "output_type": "stream",
     "text": [
      "                                                                                \r"
     ]
    },
    {
     "data": {
      "text/plain": [
       "[Row(id=12, timestamp='2018-01-01 00:01:00', sur_velo=False, velo='False', vitesse=0.030000000000000006, position='(lon:2.07 lat:1.24)', destination_finale='False'),\n",
       " Row(id=12, timestamp='2018-01-01 00:02:00', sur_velo=False, velo='False', vitesse=0.030000000000000006, position='(lon:2.07 lat:1.24)', destination_finale='False'),\n",
       " Row(id=12, timestamp='2018-01-01 00:03:00', sur_velo=False, velo='False', vitesse=0.030000000000000006, position='(lon:2.07 lat:1.24)', destination_finale='False'),\n",
       " Row(id=12, timestamp='2018-01-01 00:04:00', sur_velo=False, velo='False', vitesse=0.030000000000000006, position='(lon:2.07 lat:1.24)', destination_finale='False'),\n",
       " Row(id=12, timestamp='2018-01-01 00:05:00', sur_velo=False, velo='False', vitesse=0.030000000000000006, position='(lon:2.07 lat:1.24)', destination_finale='False'),\n",
       " Row(id=12, timestamp='2018-01-01 00:06:00', sur_velo=False, velo='False', vitesse=0.030000000000000006, position='(lon:2.07 lat:1.24)', destination_finale='False'),\n",
       " Row(id=12, timestamp='2018-01-01 00:07:00', sur_velo=False, velo='False', vitesse=0.030000000000000006, position='(lon:2.07 lat:1.24)', destination_finale='False'),\n",
       " Row(id=12, timestamp='2018-01-01 00:08:00', sur_velo=False, velo='False', vitesse=0.030000000000000006, position='(lon:2.07 lat:1.24)', destination_finale='False'),\n",
       " Row(id=12, timestamp='2018-01-01 00:09:00', sur_velo=False, velo='False', vitesse=0.030000000000000006, position='(lon:2.07 lat:1.24)', destination_finale='False'),\n",
       " Row(id=12, timestamp='2018-01-01 00:10:00', sur_velo=False, velo='False', vitesse=0.030000000000000006, position='(lon:2.07 lat:1.24)', destination_finale='False')]"
      ]
     },
     "execution_count": 31,
     "metadata": {},
     "output_type": "execute_result"
    }
   ],
   "source": [
    "df1.take(10)"
   ]
  },
  {
   "cell_type": "markdown",
   "metadata": {},
   "source": [
    "## 3.2) moyenne : agg + colonne + mean\n",
    "A l'aide de la méthode agg(), calculez la moyenne sur la colonne vitesse.\n",
    "\n",
    "Vous pouvez récuperer le résultat avec la méthode collect()."
   ]
  },
  {
   "cell_type": "code",
   "execution_count": 34,
   "metadata": {},
   "outputs": [
    {
     "name": "stderr",
     "output_type": "stream",
     "text": [
      "                                                                                \r"
     ]
    },
    {
     "data": {
      "text/plain": [
       "[Row(avg(vitesse)=0.4423137464018649)]"
      ]
     },
     "execution_count": 34,
     "metadata": {},
     "output_type": "execute_result"
    }
   ],
   "source": [
    "(df1.agg({'vitesse':'avg'})).collect()"
   ]
  },
  {
   "cell_type": "markdown",
   "metadata": {},
   "source": [
    "## 3.3) quantile approximatifs pour gagner du temps de calcul\n",
    "En statistiques et en théorie des probabilités, les quantiles sont les valeurs qui divisent un jeu de données en intervalles contenant le même nombre de données. Il y a donc un quantile de moins que le nombre de groupes créés. Ainsi les quartiles sont les trois quantiles qui divisent un ensemble de données en quatre groupes de taille égale.\n",
    "\n",
    "La méthode approxQuantile permet de laisser une tolérance a l'erreur ce qui réduit le temps de calul sur d'énormes jeux de données."
   ]
  },
  {
   "cell_type": "code",
   "execution_count": 36,
   "metadata": {},
   "outputs": [],
   "source": [
    "import time"
   ]
  },
  {
   "cell_type": "code",
   "execution_count": 37,
   "metadata": {},
   "outputs": [],
   "source": [
    "def calcul_quantile(df, erreur_acceptee):\n",
    "    debut            = time.time()\n",
    "    colonne          = \"vitesse\"\n",
    "    quantiles_voulus = [0.25, 0.50, 0.75]\n",
    "    resultat         =  df.approxQuantile(colonne, quantiles_voulus , erreur_acceptee )\n",
    "    fin              = time.time()\n",
    "    delais           = fin -debut\n",
    "    print (\"delais =%.2f sec, quantiles = %s\"%(delais, resultat))"
   ]
  },
  {
   "cell_type": "code",
   "execution_count": 39,
   "metadata": {},
   "outputs": [
    {
     "name": "stderr",
     "output_type": "stream",
     "text": [
      "[Stage 40:===========================================>              (3 + 1) / 4]\r"
     ]
    },
    {
     "name": "stdout",
     "output_type": "stream",
     "text": [
      "delais =9.52 sec, quantiles = [0.030000000000000006, 0.2944550644296354, 0.5931162118010243]\n"
     ]
    },
    {
     "name": "stderr",
     "output_type": "stream",
     "text": [
      "                                                                                \r"
     ]
    }
   ],
   "source": [
    "calcul_quantile(df1, 0.05)"
   ]
  },
  {
   "cell_type": "code",
   "execution_count": 40,
   "metadata": {},
   "outputs": [
    {
     "name": "stderr",
     "output_type": "stream",
     "text": [
      "[Stage 41:===========================================>              (3 + 1) / 4]\r"
     ]
    },
    {
     "name": "stdout",
     "output_type": "stream",
     "text": [
      "delais =8.55 sec, quantiles = [0.030000000000000006, 0.2944550644296354, 0.6295531740219638]\n"
     ]
    },
    {
     "name": "stderr",
     "output_type": "stream",
     "text": [
      "                                                                                \r"
     ]
    }
   ],
   "source": [
    "calcul_quantile(df1, 0.01)"
   ]
  },
  {
   "cell_type": "code",
   "execution_count": 41,
   "metadata": {},
   "outputs": [
    {
     "name": "stderr",
     "output_type": "stream",
     "text": [
      "                                                                                \r"
     ]
    },
    {
     "name": "stdout",
     "output_type": "stream",
     "text": [
      "delais =31.40 sec, quantiles = [0.030000000000000006, 0.3283952876721612, 0.6295531740219638]\n"
     ]
    }
   ],
   "source": [
    "calcul_quantile(df1, 0)"
   ]
  },
  {
   "cell_type": "markdown",
   "metadata": {},
   "source": [
    "## Reload de la dataframe\n",
    "Chargez le fichier villes dans un df nommé villes."
   ]
  },
  {
   "cell_type": "code",
   "execution_count": 6,
   "metadata": {},
   "outputs": [
    {
     "name": "stderr",
     "output_type": "stream",
     "text": [
      "[Stage 3:=============================>                             (1 + 1) / 2]\r"
     ]
    },
    {
     "name": "stdout",
     "output_type": "stream",
     "text": [
      "root\n",
      " |-- id: integer (nullable = true)\n",
      " |-- vitesse_a_pied: double (nullable = true)\n",
      " |-- vitesse_a_velo: double (nullable = true)\n",
      " |-- home: string (nullable = true)\n",
      " |-- travail: string (nullable = true)\n",
      " |-- sportif: boolean (nullable = true)\n",
      " |-- casseur: boolean (nullable = true)\n",
      " |-- statut: string (nullable = true)\n",
      " |-- salaire: double (nullable = true)\n",
      " |-- sexe: string (nullable = true)\n",
      " |-- age: integer (nullable = true)\n",
      " |-- sportivite: double (nullable = true)\n",
      " |-- velo_perf_minimale: double (nullable = true)\n",
      "\n"
     ]
    },
    {
     "name": "stderr",
     "output_type": "stream",
     "text": [
      "                                                                                \r"
     ]
    }
   ],
   "source": [
    "villes =spark.read.load(\"./data_velo/villes/\", format=\"csv\", header=True, inferSchema=\"True\")\n",
    "villes.printSchema()"
   ]
  },
  {
   "cell_type": "markdown",
   "metadata": {},
   "source": [
    "## 3.4) corrélation\n",
    "En probabilités et en statistique, la corrélation entre plusieurs variables aléatoires ou statistiques est une notion de liaison qui contredit leur indépendance.\n",
    "\n",
    "Calculez la corrélation entre les colonnes age et vitesse_a_velo."
   ]
  },
  {
   "cell_type": "code",
   "execution_count": 54,
   "metadata": {},
   "outputs": [
    {
     "name": "stdout",
     "output_type": "stream",
     "text": [
      "+---+--------------------+-------------------+-------------------+-------------------+-------+-------+--------------------+------------------+----+---+-------------------+------------------+\n",
      "| id|      vitesse_a_pied|     vitesse_a_velo|               home|            travail|sportif|casseur|              statut|           salaire|sexe|age|         sportivite|velo_perf_minimale|\n",
      "+---+--------------------+-------------------+-------------------+-------------------+-------+-------+--------------------+------------------+----+---+-------------------+------------------+\n",
      "|  2|   2.344207322136085|  6.251219525696226|(lon:2.62 lat:2.59)|(lon:2.34 lat:0.97)|  false|  false|               cadre|135167.36710061165|   H| 44|  7.814024407120282|               0.4|\n",
      "|  3|                0.02|               0.05|(lon:3.79 lat:3.81)|(lon:0.20 lat:0.21)|  false|  false|technicien_de_sur...| 20026.72646423192|   F| 20|                0.1|               0.4|\n",
      "|  4|                0.02|               0.05|(lon:3.39 lat:0.93)|(lon:0.58 lat:0.20)|  false|  false|technicien_de_sur...|15214.584161640825|   F| 35|                0.1|               0.4|\n",
      "|  5|0.030000000000000006|               0.08|(lon:2.88 lat:3.78)|(lon:3.38 lat:2.93)|  false|  false|technicien_de_sur...| 18235.92844960795|   H| 71|                0.1|               0.4|\n",
      "|  6|                0.02|               0.05|(lon:0.44 lat:1.45)|(lon:1.85 lat:0.04)|  false|  false|          professeur|30852.120709809133|   F| 79|                0.1|               0.4|\n",
      "|  7|  0.9726853575358816|  2.431713393839704|(lon:0.18 lat:2.60)|(lon:2.16 lat:2.28)|  false|  false|             employe| 54494.87538632937|   F| 46|  4.863426787679408|               0.4|\n",
      "|  8| 0.24473592541818706| 0.6526291344484989|(lon:1.67 lat:0.17)|(lon:2.19 lat:1.90)|  false|  false|technicien_de_sur...|33597.687351868175|   H| 63| 0.8157864180606236|               0.4|\n",
      "|  9|  0.6295531740219638| 1.5738829350549093|(lon:2.16 lat:2.32)|(lon:3.44 lat:3.54)|  false|  false|technicien_de_sur...|11799.927798039249|   F| 65| 3.1477658701098186|               0.4|\n",
      "| 10|  0.3385617496874321| 0.9028313324998192|(lon:2.16 lat:2.98)|(lon:2.34 lat:2.56)|  false|  false|          professeur| 33131.88170893892|   H| 32|  1.128539165624774|               0.4|\n",
      "| 11| 0.25214291732243804|  0.630357293306095|(lon:0.28 lat:2.44)|(lon:1.28 lat:1.40)|  false|  false|             employe|  53716.3729157698|   F| 21|   1.26071458661219|               0.4|\n",
      "| 12|0.030000000000000006|               0.08|(lon:2.07 lat:1.24)|(lon:2.62 lat:2.41)|  false|  false|             éboueur| 25445.75075327384|   H| 34|                0.1|               0.4|\n",
      "| 13|  1.0436625537904385| 2.7831001434411684|(lon:3.90 lat:0.62)|(lon:3.29 lat:3.86)|  false|  false|          reserviste| 35065.42961851433|   H| 37| 3.4788751793014607|               0.4|\n",
      "| 14|  0.3733552690301726| 0.9333881725754316|(lon:3.87 lat:3.74)|(lon:0.41 lat:0.36)|  false|  false|               cadre|  74308.6319691613|   F| 34|  1.866776345150863|               0.4|\n",
      "| 15|0.030000000000000006|               0.08|(lon:0.73 lat:0.21)|(lon:3.30 lat:0.34)|  false|  false|               cadre| 50740.88071802778|   H| 34|                0.1|               0.4|\n",
      "| 16|                0.02|               0.05|(lon:1.37 lat:1.09)|(lon:0.45 lat:1.77)|  false|  false|             éboueur|21040.289070523115|   F| 32|                0.1|               0.4|\n",
      "| 17|  1.0608622097751907| 2.6521555244379766|(lon:3.68 lat:0.79)|(lon:2.67 lat:3.66)|  false|  false|technicien_de_sur...|16946.365288912493|   F| 16|  5.304311048875953|               0.4|\n",
      "| 18|                0.02|               0.05|(lon:0.51 lat:2.32)|(lon:1.01 lat:0.40)|  false|  false|technicien_de_sur...|22099.145463261266|   F| 24|                0.1|               0.4|\n",
      "| 19|  0.9773845017525072| 2.6063586713400198|(lon:1.70 lat:1.94)|(lon:0.28 lat:1.85)|  false|  false|               cadre| 83399.49945220708|   H| 40|  3.257948339175024|               0.4|\n",
      "| 20|  0.0820881445834403|0.21890171888917406|(lon:1.72 lat:2.95)|(lon:2.65 lat:1.68)|  false|  false|               cadre| 78429.53192610192|   H| 74|0.27362714861146764|               0.4|\n",
      "| 21|  0.2944550644296354| 0.7852135051456944|(lon:2.57 lat:0.11)|(lon:3.75 lat:0.54)|  false|  false|               cadre|  75877.5189863671|   H| 83|  0.981516881432118|               0.4|\n",
      "+---+--------------------+-------------------+-------------------+-------------------+-------+-------+--------------------+------------------+----+---+-------------------+------------------+\n",
      "only showing top 20 rows\n",
      "\n"
     ]
    }
   ],
   "source": [
    "villes.show()"
   ]
  },
  {
   "cell_type": "code",
   "execution_count": 60,
   "metadata": {},
   "outputs": [
    {
     "data": {
      "text/plain": [
       "-0.06411845578664936"
      ]
     },
     "execution_count": 60,
     "metadata": {},
     "output_type": "execute_result"
    }
   ],
   "source": [
    "villes.corr('age' ,'vitesse_a_velo')"
   ]
  },
  {
   "cell_type": "markdown",
   "metadata": {},
   "source": [
    "## 3.5) covariance\n",
    "Calculez la covariance entre les colonnes age et vitesse_a_velo."
   ]
  },
  {
   "cell_type": "code",
   "execution_count": 59,
   "metadata": {},
   "outputs": [
    {
     "data": {
      "text/plain": [
       "-1.5721945755314064"
      ]
     },
     "execution_count": 59,
     "metadata": {},
     "output_type": "execute_result"
    }
   ],
   "source": [
    "villes.cov('age' , 'vitesse_a_velo')"
   ]
  },
  {
   "cell_type": "markdown",
   "metadata": {},
   "source": [
    "## 3.6) sample"
   ]
  },
  {
   "cell_type": "code",
   "execution_count": 7,
   "metadata": {},
   "outputs": [],
   "source": [
    "villes_1_pct = villes.sample(False, 0.1)\n"
   ]
  },
  {
   "cell_type": "code",
   "execution_count": 8,
   "metadata": {},
   "outputs": [
    {
     "data": {
      "text/plain": [
       "7"
      ]
     },
     "execution_count": 8,
     "metadata": {},
     "output_type": "execute_result"
    }
   ],
   "source": [
    "villes_1_pct.count()"
   ]
  },
  {
   "cell_type": "code",
   "execution_count": 9,
   "metadata": {},
   "outputs": [
    {
     "name": "stderr",
     "output_type": "stream",
     "text": [
      "                                                                                \r"
     ]
    },
    {
     "data": {
      "text/plain": [
       "43"
      ]
     },
     "execution_count": 9,
     "metadata": {},
     "output_type": "execute_result"
    }
   ],
   "source": [
    "villes.exceptAll(villes_1_pct).count()"
   ]
  },
  {
   "cell_type": "markdown",
   "metadata": {},
   "source": [
    "## 3.7) filter \n",
    "La méthode filter() permet le df selon certaines valeurs dans les colonnes.\n",
    "\n",
    "Utilisez cette méthode pour récuperer seulement les lignes avec le sexe féminin."
   ]
  },
  {
   "cell_type": "code",
   "execution_count": 87,
   "metadata": {},
   "outputs": [
    {
     "name": "stderr",
     "output_type": "stream",
     "text": [
      "[Stage 66:>                                                         (0 + 1) / 1]\r"
     ]
    },
    {
     "name": "stdout",
     "output_type": "stream",
     "text": [
      "+---+-------------------+-------------------+-------------------+-------------------+-------+-------+--------------------+------------------+----+---+-------------------+------------------+\n",
      "| id|     vitesse_a_pied|     vitesse_a_velo|               home|            travail|sportif|casseur|              statut|           salaire|sexe|age|         sportivite|velo_perf_minimale|\n",
      "+---+-------------------+-------------------+-------------------+-------------------+-------+-------+--------------------+------------------+----+---+-------------------+------------------+\n",
      "|  3|               0.02|               0.05|(lon:3.79 lat:3.81)|(lon:0.20 lat:0.21)|  false|  false|technicien_de_sur...| 20026.72646423192|   F| 20|                0.1|               0.4|\n",
      "|  4|               0.02|               0.05|(lon:3.39 lat:0.93)|(lon:0.58 lat:0.20)|  false|  false|technicien_de_sur...|15214.584161640825|   F| 35|                0.1|               0.4|\n",
      "|  6|               0.02|               0.05|(lon:0.44 lat:1.45)|(lon:1.85 lat:0.04)|  false|  false|          professeur|30852.120709809133|   F| 79|                0.1|               0.4|\n",
      "|  7| 0.9726853575358816|  2.431713393839704|(lon:0.18 lat:2.60)|(lon:2.16 lat:2.28)|  false|  false|             employe| 54494.87538632937|   F| 46|  4.863426787679408|               0.4|\n",
      "|  9| 0.6295531740219638| 1.5738829350549093|(lon:2.16 lat:2.32)|(lon:3.44 lat:3.54)|  false|  false|technicien_de_sur...|11799.927798039249|   F| 65| 3.1477658701098186|               0.4|\n",
      "| 11|0.25214291732243804|  0.630357293306095|(lon:0.28 lat:2.44)|(lon:1.28 lat:1.40)|  false|  false|             employe|  53716.3729157698|   F| 21|   1.26071458661219|               0.4|\n",
      "| 14| 0.3733552690301726| 0.9333881725754316|(lon:3.87 lat:3.74)|(lon:0.41 lat:0.36)|  false|  false|               cadre|  74308.6319691613|   F| 34|  1.866776345150863|               0.4|\n",
      "| 16|               0.02|               0.05|(lon:1.37 lat:1.09)|(lon:0.45 lat:1.77)|  false|  false|             éboueur|21040.289070523115|   F| 32|                0.1|               0.4|\n",
      "| 17| 1.0608622097751907| 2.6521555244379766|(lon:3.68 lat:0.79)|(lon:2.67 lat:3.66)|  false|  false|technicien_de_sur...|16946.365288912493|   F| 16|  5.304311048875953|               0.4|\n",
      "| 18|               0.02|               0.05|(lon:0.51 lat:2.32)|(lon:1.01 lat:0.40)|  false|  false|technicien_de_sur...|22099.145463261266|   F| 24|                0.1|               0.4|\n",
      "| 22| 0.5931162118010243| 1.4827905295025607|(lon:1.41 lat:2.43)|(lon:1.49 lat:1.44)|  false|  false|             employe|38906.393030229774|   F| 36|  2.965581059005121|               0.4|\n",
      "| 23| 0.1431743884246346| 0.3579359710615865|(lon:0.80 lat:2.82)|(lon:0.34 lat:3.77)|  false|  false|             employe|29085.686473822872|   F| 78| 0.7158719421231731|               0.4|\n",
      "| 27| 0.4804764997211946| 1.2011912493029866|(lon:0.78 lat:2.62)|(lon:2.30 lat:0.01)|  false|  false|technicien_de_sur...|18234.071705216207|   F| 59|  2.402382498605973|               0.4|\n",
      "| 29|0.07468040314496042|0.18670100786240107|(lon:3.75 lat:3.12)|(lon:2.30 lat:3.92)|  false|  false|          reserviste|29515.863019061188|   F| 67| 0.3734020157248021|               0.4|\n",
      "| 30| 0.5525664880322532| 1.3814162200806333|(lon:1.08 lat:3.77)|(lon:0.72 lat:3.32)|  false|  false|             employe|27046.171282769843|   F| 81| 2.7628324401612665|               0.4|\n",
      "| 34|0.03887047976999849|0.09717619942499622|(lon:2.83 lat:0.56)|(lon:3.25 lat:1.60)|  false|  false|technicien_de_sur...|17175.758356245642|   F| 21|0.19435239884999245|               0.4|\n",
      "| 42| 0.6992238313299156| 1.7480595783247892|(lon:3.80 lat:3.99)|(lon:2.13 lat:1.65)|  false|  false|             employe| 19383.17526928032|   F| 21| 3.4961191566495784|               0.4|\n",
      "| 47|0.18444538804220728| 0.4611134701055182|(lon:1.74 lat:3.62)|(lon:2.96 lat:2.23)|  false|  false|          reserviste| 30798.10624851897|   F| 58| 0.9222269402110364|               0.4|\n",
      "| 48| 0.5652688776055729|  1.413172194013932|(lon:3.51 lat:2.24)|(lon:0.27 lat:1.34)|  false|  false|             éboueur|12133.681930505132|   F| 56| 2.8263443880278643|               0.4|\n",
      "| 49| 0.9920385410084079|   2.48009635252102|(lon:0.13 lat:2.04)|(lon:1.35 lat:0.63)|  false|  false|technicien_de_sur...| 9511.945356442959|   F| 58|   4.96019270504204|               0.4|\n",
      "+---+-------------------+-------------------+-------------------+-------------------+-------+-------+--------------------+------------------+----+---+-------------------+------------------+\n",
      "only showing top 20 rows\n",
      "\n"
     ]
    },
    {
     "name": "stderr",
     "output_type": "stream",
     "text": [
      "                                                                                \r"
     ]
    }
   ],
   "source": [
    "(villes.filter(villes[\"sexe\"] == \"F\")).show()"
   ]
  },
  {
   "cell_type": "markdown",
   "metadata": {},
   "source": [
    "# 4) Transformer la données : les transformations!"
   ]
  },
  {
   "cell_type": "markdown",
   "metadata": {},
   "source": [
    "## Transformations : demandent à être suivi par un collect ou une action (count par exemple)"
   ]
  },
  {
   "cell_type": "markdown",
   "metadata": {},
   "source": [
    "## 4.1) obtenir des statistiques sur les colonnes numériques\n",
    "La méthode describe() permet de calculer les statistiques récapitulatives d'une ou plusieurs colonnes numériques dans un df. Si le nom des colonnes n'est pas spécifié, la méthode calculera des statistiques récapitulatives pour toutes les colonnes numériques présentes dans le df.\n",
    "\n",
    "Afficher les statistiques de la colonne age."
   ]
  },
  {
   "cell_type": "code",
   "execution_count": 88,
   "metadata": {},
   "outputs": [
    {
     "name": "stderr",
     "output_type": "stream",
     "text": [
      "                                                                                \r"
     ]
    },
    {
     "data": {
      "text/plain": [
       "[Row(summary='count', summary='5', sexe='3', age='5'),\n",
       " Row(summary='mean', summary=None, sexe='50.0', age='43.43979797464467'),\n",
       " Row(summary='stddev', summary=None, sexe='NaN', age='27.13153036418277'),\n",
       " Row(summary='min', summary='count', sexe='50', age='16'),\n",
       " Row(summary='max', summary='stddev', sexe='H', age='83')]"
      ]
     },
     "execution_count": 88,
     "metadata": {},
     "output_type": "execute_result"
    }
   ],
   "source": [
    "villes.describe([\"sexe\", \"age\"]).describe().collect()"
   ]
  },
  {
   "cell_type": "markdown",
   "metadata": {},
   "source": [
    "## 4.2) groupby\n",
    "La méthode groupBy() suivie de la methode agg() permet de grouper le df selon les catgories d'une ou plusieurs colonnes pour faire des calculs sur ces catégories.\n",
    "\n",
    "Calculez la moyenne de la colonnes sportivité selon le sexe des personnes."
   ]
  },
  {
   "cell_type": "code",
   "execution_count": 59,
   "metadata": {},
   "outputs": [
    {
     "ename": "NameError",
     "evalue": "name 'villes' is not defined",
     "output_type": "error",
     "traceback": [
      "\u001b[0;31m---------------------------------------------------------------------------\u001b[0m",
      "\u001b[0;31mNameError\u001b[0m                                 Traceback (most recent call last)",
      "Cell \u001b[0;32mIn [59], line 1\u001b[0m\n\u001b[0;32m----> 1\u001b[0m \u001b[43mvilles\u001b[49m\u001b[38;5;241m.\u001b[39mgroupBy(\u001b[38;5;124m\"\u001b[39m\u001b[38;5;124msexe\u001b[39m\u001b[38;5;124m\"\u001b[39m)\u001b[38;5;241m.\u001b[39magg({\u001b[38;5;124m'\u001b[39m\u001b[38;5;124msportivite\u001b[39m\u001b[38;5;124m'\u001b[39m:\u001b[38;5;124m'\u001b[39m\u001b[38;5;124mavg\u001b[39m\u001b[38;5;124m'\u001b[39m})\u001b[38;5;241m.\u001b[39mcollect()\n",
      "\u001b[0;31mNameError\u001b[0m: name 'villes' is not defined"
     ]
    }
   ],
   "source": [
    "villes.groupBy(\"sexe\").agg({'sportivite':'avg'}).collect()"
   ]
  },
  {
   "cell_type": "markdown",
   "metadata": {},
   "source": [
    "Calculez la moyenne de la colonne age et la valeur max de la colonne sportivité par sexe."
   ]
  },
  {
   "cell_type": "code",
   "execution_count": 10,
   "metadata": {},
   "outputs": [
    {
     "name": "stderr",
     "output_type": "stream",
     "text": [
      "[Stage 18:==================================================>     (68 + 3) / 75]\r"
     ]
    },
    {
     "name": "stdout",
     "output_type": "stream",
     "text": [
      "+----+-----------------+------------------+\n",
      "|sexe|  max(sportivite)|          avg(age)|\n",
      "+----+-----------------+------------------+\n",
      "|   F|5.304311048875953|46.095238095238095|\n",
      "|   H|7.814024407120282| 50.06896551724138|\n",
      "+----+-----------------+------------------+\n",
      "\n"
     ]
    },
    {
     "name": "stderr",
     "output_type": "stream",
     "text": [
      "                                                                                \r"
     ]
    }
   ],
   "source": [
    "villes.groupBy(\"sexe\").agg({\"age\" : 'avg',\"sportivite\": 'max'}).show()"
   ]
  },
  {
   "cell_type": "markdown",
   "metadata": {},
   "source": [
    "Calculez la moyenne des colonnes vitesse_a_pied et vitesse_a_velo par sexe."
   ]
  },
  {
   "cell_type": "code",
   "execution_count": 141,
   "metadata": {},
   "outputs": [
    {
     "name": "stderr",
     "output_type": "stream",
     "text": [
      "[Stage 92:=====================================================>  (72 + 2) / 75]\r"
     ]
    },
    {
     "name": "stdout",
     "output_type": "stream",
     "text": [
      "+----+-------------------+-------------------+\n",
      "|sexe|avg(vitesse_a_velo)|avg(vitesse_a_pied)|\n",
      "+----+-------------------+-------------------+\n",
      "|   F| 0.9205309567340259|0.36821238269361034|\n",
      "|   H| 1.3084949404499162| 0.4906856026687184|\n",
      "+----+-------------------+-------------------+\n",
      "\n"
     ]
    },
    {
     "name": "stderr",
     "output_type": "stream",
     "text": [
      "                                                                                \r"
     ]
    }
   ],
   "source": [
    "(villes.groupBy(\"sexe\")).agg({\"vitesse_a_pied\"  : 'avg',\"vitesse_a_velo\" : 'avg'}).show()"
   ]
  },
  {
   "cell_type": "markdown",
   "metadata": {},
   "source": [
    "## 4.3) summary \n",
    "La méthode summary() permet des faire des calculs statistiques de base sur toutes les colonnes du df.\n"
   ]
  },
  {
   "cell_type": "code",
   "execution_count": 151,
   "metadata": {},
   "outputs": [
    {
     "data": {
      "text/plain": [
       "[Row(summary='count', id='50', vitesse_a_pied='50', vitesse_a_velo='50', home='50', travail='50', statut='50', salaire='50', sexe='50', age='50', sportivite='50', velo_perf_minimale='50'),\n",
       " Row(summary='max', id='51', vitesse_a_pied='2.344207322136085', vitesse_a_velo='6.251219525696226', home='(lon:3.90 lat:0.62)', travail='(lon:3.91 lat:3.22)', statut='éboueur', salaire='148702.7189509448', sexe='H', age='83', sportivite='7.814024407120282', velo_perf_minimale='0.4'),\n",
       " Row(summary='min', id='2', vitesse_a_pied='0.02', vitesse_a_velo='0.05', home='(lon:0.01 lat:2.24)', travail='(lon:0.20 lat:0.21)', statut='cadre', salaire='9511.945356442959', sexe='F', age='16', sportivite='0.1', velo_perf_minimale='0.4')]"
      ]
     },
     "execution_count": 151,
     "metadata": {},
     "output_type": "execute_result"
    }
   ],
   "source": [
    "villes.summary(\"count\", \"max\" ).collect()"
   ]
  },
  {
   "cell_type": "markdown",
   "metadata": {},
   "source": [
    "## 4.4) union de dataframe"
   ]
  },
  {
   "cell_type": "markdown",
   "metadata": {},
   "source": [
    "#### ajouter les colonnes les unes à côté des autres : join"
   ]
  },
  {
   "cell_type": "code",
   "execution_count": 153,
   "metadata": {},
   "outputs": [
    {
     "name": "stdout",
     "output_type": "stream",
     "text": [
      "root\n",
      " |-- id: integer (nullable = true)\n",
      " |-- vitesse_a_pied: double (nullable = true)\n",
      " |-- vitesse_a_velo: double (nullable = true)\n",
      " |-- home: string (nullable = true)\n",
      " |-- travail: string (nullable = true)\n",
      " |-- sportif: boolean (nullable = true)\n",
      " |-- casseur: boolean (nullable = true)\n",
      " |-- statut: string (nullable = true)\n",
      " |-- salaire: double (nullable = true)\n",
      " |-- sexe: string (nullable = true)\n",
      " |-- age: integer (nullable = true)\n",
      " |-- sportivite: double (nullable = true)\n",
      " |-- velo_perf_minimale: double (nullable = true)\n",
      " |-- vitesse_a_pied: double (nullable = true)\n",
      " |-- vitesse_a_velo: double (nullable = true)\n",
      " |-- home: string (nullable = true)\n",
      " |-- travail: string (nullable = true)\n",
      " |-- sportif: boolean (nullable = true)\n",
      " |-- casseur: boolean (nullable = true)\n",
      " |-- statut: string (nullable = true)\n",
      " |-- salaire: double (nullable = true)\n",
      " |-- sexe: string (nullable = true)\n",
      " |-- age: integer (nullable = true)\n",
      " |-- sportivite: double (nullable = true)\n",
      " |-- velo_perf_minimale: double (nullable = true)\n",
      "\n"
     ]
    }
   ],
   "source": [
    "villes.join(villes, on=\"id\").printSchema()"
   ]
  },
  {
   "cell_type": "markdown",
   "metadata": {},
   "source": [
    "#### ajouter les lignes les unes sous les autres : union"
   ]
  },
  {
   "cell_type": "code",
   "execution_count": 156,
   "metadata": {},
   "outputs": [
    {
     "data": {
      "text/plain": [
       "100"
      ]
     },
     "execution_count": 156,
     "metadata": {},
     "output_type": "execute_result"
    }
   ],
   "source": [
    "villes.unionByName(villes).count()"
   ]
  },
  {
   "cell_type": "markdown",
   "metadata": {},
   "source": [
    "## 4.5) filtre"
   ]
  },
  {
   "cell_type": "code",
   "execution_count": 157,
   "metadata": {},
   "outputs": [
    {
     "data": {
      "text/plain": [
       "21"
      ]
     },
     "execution_count": 157,
     "metadata": {},
     "output_type": "execute_result"
    }
   ],
   "source": [
    "villes.where(villes.sexe==\"F\").count()"
   ]
  },
  {
   "cell_type": "markdown",
   "metadata": {},
   "source": [
    "## 4.6) concaténation de colonne : F.concat"
   ]
  },
  {
   "cell_type": "code",
   "execution_count": 12,
   "metadata": {},
   "outputs": [],
   "source": [
    "from pyspark.sql.types import *\n",
    "from pyspark.sql       import functions as F"
   ]
  },
  {
   "cell_type": "markdown",
   "metadata": {},
   "source": [
    "Nous allons ici reprendre le df cyclistes.\n",
    "\n",
    "Utiliser les méthodes withColumn() et F.concat() pour ajouter une colonne au df qui contiendra la concatenation des valeurs des colonnes id et sur_velo. "
   ]
  },
  {
   "cell_type": "code",
   "execution_count": 14,
   "metadata": {},
   "outputs": [
    {
     "name": "stderr",
     "output_type": "stream",
     "text": [
      "                                                                                \r"
     ]
    },
    {
     "data": {
      "text/plain": [
       "Row(id=12, timestamp='2018-01-01 00:01:00', sur_velo=False, velo='False', vitesse=0.030000000000000006, position='(lon:2.07 lat:1.24)', destination_finale='False', id_sur_velo='12false')"
      ]
     },
     "execution_count": 14,
     "metadata": {},
     "output_type": "execute_result"
    }
   ],
   "source": [
    "path = \"./data_velo/Cyclistes/*.csv\" \n",
    "tous_les_cyclistes = spark.read.format(\"csv\").option(\"header\", \"true\").load(path, inferSchema=True)\n",
    "tous_les_cyclistes.count()\n",
    "tous_les_cyclistes.withColumn(\"id_sur_velo\", F.concat(tous_les_cyclistes.id,  tous_les_cyclistes.sur_velo)).first()"
   ]
  },
  {
   "cell_type": "markdown",
   "metadata": {},
   "source": [
    "# 5) udf \n",
    "Il est possible d'enregistrer des fonctions python que l'on écrit nous même pour les appliquer sur une colonne d'une dataframe, c'est ce qu'on appelle les udf, pour User Defined Functions"
   ]
  },
  {
   "cell_type": "code",
   "execution_count": 161,
   "metadata": {},
   "outputs": [],
   "source": [
    "from pyspark.sql.types     import *\n",
    "from pyspark.sql.functions import udf\n",
    "\n",
    "@udf(returnType = FloatType())\n",
    "def cube(colonne):\n",
    "    return colonne*colonne"
   ]
  },
  {
   "cell_type": "code",
   "execution_count": 162,
   "metadata": {},
   "outputs": [
    {
     "name": "stderr",
     "output_type": "stream",
     "text": [
      "[Stage 119:>                                                        (0 + 1) / 1]\r"
     ]
    },
    {
     "name": "stdout",
     "output_type": "stream",
     "text": [
      "+-------------+\n",
      "|cube(salaire)|\n",
      "+-------------+\n",
      "|1.82702162E10|\n",
      "|  4.0106976E8|\n",
      "| 2.31483568E8|\n",
      "| 3.32549088E8|\n",
      "|  9.5185338E8|\n",
      "| 2.96969139E9|\n",
      "| 1.12880461E9|\n",
      "| 1.39238304E8|\n",
      "|  1.0977216E9|\n",
      "|  2.8854487E9|\n",
      "|  6.4748621E8|\n",
      "| 1.22958438E9|\n",
      "|  5.5217725E9|\n",
      "| 2.57463706E9|\n",
      "|  4.4269376E8|\n",
      "| 2.87179296E8|\n",
      "| 4.88372224E8|\n",
      "|  6.9554765E9|\n",
      "|  6.1511916E9|\n",
      "|   5.757398E9|\n",
      "+-------------+\n",
      "only showing top 20 rows\n",
      "\n"
     ]
    },
    {
     "name": "stderr",
     "output_type": "stream",
     "text": [
      "                                                                                \r"
     ]
    }
   ],
   "source": [
    "villes.select(cube(\"salaire\")).show()"
   ]
  },
  {
   "cell_type": "code",
   "execution_count": 163,
   "metadata": {},
   "outputs": [
    {
     "name": "stdout",
     "output_type": "stream",
     "text": [
      "+-------------+\n",
      "|cube(salaire)|\n",
      "+-------------+\n",
      "|1.82702162E10|\n",
      "|  4.0106976E8|\n",
      "| 2.31483568E8|\n",
      "| 3.32549088E8|\n",
      "|  9.5185338E8|\n",
      "| 2.96969139E9|\n",
      "| 1.12880461E9|\n",
      "| 1.39238304E8|\n",
      "|  1.0977216E9|\n",
      "|  2.8854487E9|\n",
      "|  6.4748621E8|\n",
      "| 1.22958438E9|\n",
      "|  5.5217725E9|\n",
      "| 2.57463706E9|\n",
      "|  4.4269376E8|\n",
      "| 2.87179296E8|\n",
      "| 4.88372224E8|\n",
      "|  6.9554765E9|\n",
      "|  6.1511916E9|\n",
      "|   5.757398E9|\n",
      "+-------------+\n",
      "only showing top 20 rows\n",
      "\n"
     ]
    }
   ],
   "source": [
    "villes.select(cube(villes.salaire)).show()"
   ]
  },
  {
   "cell_type": "code",
   "execution_count": 164,
   "metadata": {},
   "outputs": [
    {
     "data": {
      "text/plain": [
       "[Row(cube(salaire)=18270216192.0),\n",
       " Row(cube(salaire)=401069760.0),\n",
       " Row(cube(salaire)=231483568.0),\n",
       " Row(cube(salaire)=332549088.0),\n",
       " Row(cube(salaire)=951853376.0),\n",
       " Row(cube(salaire)=2969691392.0),\n",
       " Row(cube(salaire)=1128804608.0),\n",
       " Row(cube(salaire)=139238304.0),\n",
       " Row(cube(salaire)=1097721600.0),\n",
       " Row(cube(salaire)=2885448704.0),\n",
       " Row(cube(salaire)=647486208.0),\n",
       " Row(cube(salaire)=1229584384.0),\n",
       " Row(cube(salaire)=5521772544.0),\n",
       " Row(cube(salaire)=2574637056.0),\n",
       " Row(cube(salaire)=442693760.0),\n",
       " Row(cube(salaire)=287179296.0),\n",
       " Row(cube(salaire)=488372224.0),\n",
       " Row(cube(salaire)=6955476480.0),\n",
       " Row(cube(salaire)=6151191552.0),\n",
       " Row(cube(salaire)=5757398016.0),\n",
       " Row(cube(salaire)=1513707392.0),\n",
       " Row(cube(salaire)=845977152.0),\n",
       " Row(cube(salaire)=15607006208.0),\n",
       " Row(cube(salaire)=279298720.0),\n",
       " Row(cube(salaire)=658956352.0),\n",
       " Row(cube(salaire)=332481376.0),\n",
       " Row(cube(salaire)=11568824320.0),\n",
       " Row(cube(salaire)=871186176.0),\n",
       " Row(cube(salaire)=731495360.0),\n",
       " Row(cube(salaire)=22112497664.0),\n",
       " Row(cube(salaire)=1202230528.0),\n",
       " Row(cube(salaire)=423060096.0),\n",
       " Row(cube(salaire)=295006688.0),\n",
       " Row(cube(salaire)=1184019968.0),\n",
       " Row(cube(salaire)=229316384.0),\n",
       " Row(cube(salaire)=4948908544.0),\n",
       " Row(cube(salaire)=880376512.0),\n",
       " Row(cube(salaire)=993021504.0),\n",
       " Row(cube(salaire)=332946784.0),\n",
       " Row(cube(salaire)=155353856.0),\n",
       " Row(cube(salaire)=375707488.0),\n",
       " Row(cube(salaire)=421229280.0),\n",
       " Row(cube(salaire)=454536128.0),\n",
       " Row(cube(salaire)=5381703680.0),\n",
       " Row(cube(salaire)=596220544.0),\n",
       " Row(cube(salaire)=948523328.0),\n",
       " Row(cube(salaire)=147226240.0),\n",
       " Row(cube(salaire)=90477104.0),\n",
       " Row(cube(salaire)=988872128.0),\n",
       " Row(cube(salaire)=580938816.0)]"
      ]
     },
     "execution_count": 164,
     "metadata": {},
     "output_type": "execute_result"
    }
   ],
   "source": [
    "villes.select(cube(\"salaire\")).collect()\n",
    "#villes.withColumn(\"salaire\",cube(\"salaire\")).collect()"
   ]
  },
  {
   "cell_type": "markdown",
   "metadata": {},
   "source": [
    "# 6)\tEtude de cas : analyse des fichiers de logs des cyclistes"
   ]
  },
  {
   "cell_type": "code",
   "execution_count": 15,
   "metadata": {},
   "outputs": [],
   "source": [
    "from pyspark.sql.types import *\n",
    "from pyspark.sql       import functions as F\n",
    "from pyspark.sql.types     import *\n",
    "from pyspark.sql.functions import udf"
   ]
  },
  {
   "cell_type": "markdown",
   "metadata": {},
   "source": [
    "## 6.1)  Charger la donnée dans un df nommé cycliste"
   ]
  },
  {
   "cell_type": "code",
   "execution_count": 16,
   "metadata": {},
   "outputs": [
    {
     "name": "stderr",
     "output_type": "stream",
     "text": [
      "                                                                                \r"
     ]
    }
   ],
   "source": [
    "path3 = \"./data_velo/Cyclistes/*.csv\" \n",
    "cyclistes = spark.read.format(\"csv\").option(\"header\" , \"true\").load(path3 , inferSchema=True)"
   ]
  },
  {
   "cell_type": "code",
   "execution_count": null,
   "metadata": {},
   "outputs": [],
   "source": []
  },
  {
   "cell_type": "markdown",
   "metadata": {},
   "source": [
    "## 6.2) vérifier le nombre de cycles\n",
    "\n",
    "Comptez le nombre d'id uniques."
   ]
  },
  {
   "cell_type": "code",
   "execution_count": 17,
   "metadata": {},
   "outputs": [
    {
     "name": "stderr",
     "output_type": "stream",
     "text": [
      "                                                                                \r"
     ]
    },
    {
     "data": {
      "text/plain": [
       "50"
      ]
     },
     "execution_count": 17,
     "metadata": {},
     "output_type": "execute_result"
    }
   ],
   "source": [
    "cyclistes.select(\"id\").distinct().count()"
   ]
  },
  {
   "cell_type": "markdown",
   "metadata": {},
   "source": [
    "## 6.3) transformer les timestamp en date\n",
    "\n",
    "Voici une fonction qui permert de récuperer la date sous forme de chaîne de caractère dans la colonne timestamps pour la transformer en date exploitable en tant que telle.\n",
    "\n",
    "Créez une nouvelle colonne dans votre df cycliste stockant le résultat de cette fonction."
   ]
  },
  {
   "cell_type": "code",
   "execution_count": 18,
   "metadata": {},
   "outputs": [],
   "source": [
    "from pyspark.sql.types import TimestampType\n",
    "\n",
    "@udf(returnType = TimestampType())\n",
    "def transform_timestamp_in_date(timestamp):\n",
    "    from datetime import datetime\n",
    "    return datetime.strptime(str(timestamp), \"%Y-%m-%d %H:%M:%S\")"
   ]
  },
  {
   "cell_type": "code",
   "execution_count": 21,
   "metadata": {},
   "outputs": [],
   "source": [
    "cyclistes2 = cyclistes.withColumn(\"date\" ,transform_timestamp_in_date(cyclistes['timestamp']))"
   ]
  },
  {
   "cell_type": "code",
   "execution_count": 20,
   "metadata": {},
   "outputs": [
    {
     "name": "stderr",
     "output_type": "stream",
     "text": [
      "[Stage 46:>                                                         (0 + 1) / 1]\r"
     ]
    },
    {
     "name": "stdout",
     "output_type": "stream",
     "text": [
      "+---+-------------------+--------+-----+--------------------+-------------------+------------------+-------------------+\n",
      "| id|          timestamp|sur_velo| velo|             vitesse|           position|destination_finale|               date|\n",
      "+---+-------------------+--------+-----+--------------------+-------------------+------------------+-------------------+\n",
      "| 12|2018-01-01 00:01:00|   false|False|0.030000000000000006|(lon:2.07 lat:1.24)|             False|2018-01-01 00:01:00|\n",
      "| 12|2018-01-01 00:02:00|   false|False|0.030000000000000006|(lon:2.07 lat:1.24)|             False|2018-01-01 00:02:00|\n",
      "| 12|2018-01-01 00:03:00|   false|False|0.030000000000000006|(lon:2.07 lat:1.24)|             False|2018-01-01 00:03:00|\n",
      "| 12|2018-01-01 00:04:00|   false|False|0.030000000000000006|(lon:2.07 lat:1.24)|             False|2018-01-01 00:04:00|\n",
      "| 12|2018-01-01 00:05:00|   false|False|0.030000000000000006|(lon:2.07 lat:1.24)|             False|2018-01-01 00:05:00|\n",
      "| 12|2018-01-01 00:06:00|   false|False|0.030000000000000006|(lon:2.07 lat:1.24)|             False|2018-01-01 00:06:00|\n",
      "| 12|2018-01-01 00:07:00|   false|False|0.030000000000000006|(lon:2.07 lat:1.24)|             False|2018-01-01 00:07:00|\n",
      "| 12|2018-01-01 00:08:00|   false|False|0.030000000000000006|(lon:2.07 lat:1.24)|             False|2018-01-01 00:08:00|\n",
      "| 12|2018-01-01 00:09:00|   false|False|0.030000000000000006|(lon:2.07 lat:1.24)|             False|2018-01-01 00:09:00|\n",
      "| 12|2018-01-01 00:10:00|   false|False|0.030000000000000006|(lon:2.07 lat:1.24)|             False|2018-01-01 00:10:00|\n",
      "| 12|2018-01-01 00:11:00|   false|False|0.030000000000000006|(lon:2.07 lat:1.24)|             False|2018-01-01 00:11:00|\n",
      "| 12|2018-01-01 00:12:00|   false|False|0.030000000000000006|(lon:2.07 lat:1.24)|             False|2018-01-01 00:12:00|\n",
      "| 12|2018-01-01 00:13:00|   false|False|0.030000000000000006|(lon:2.07 lat:1.24)|             False|2018-01-01 00:13:00|\n",
      "| 12|2018-01-01 00:14:00|   false|False|0.030000000000000006|(lon:2.07 lat:1.24)|             False|2018-01-01 00:14:00|\n",
      "| 12|2018-01-01 00:15:00|   false|False|0.030000000000000006|(lon:2.07 lat:1.24)|             False|2018-01-01 00:15:00|\n",
      "| 12|2018-01-01 00:16:00|   false|False|0.030000000000000006|(lon:2.07 lat:1.24)|             False|2018-01-01 00:16:00|\n",
      "| 12|2018-01-01 00:17:00|   false|False|0.030000000000000006|(lon:2.07 lat:1.24)|             False|2018-01-01 00:17:00|\n",
      "| 12|2018-01-01 00:18:00|   false|False|0.030000000000000006|(lon:2.07 lat:1.24)|             False|2018-01-01 00:18:00|\n",
      "| 12|2018-01-01 00:19:00|   false|False|0.030000000000000006|(lon:2.07 lat:1.24)|             False|2018-01-01 00:19:00|\n",
      "| 12|2018-01-01 00:20:00|   false|False|0.030000000000000006|(lon:2.07 lat:1.24)|             False|2018-01-01 00:20:00|\n",
      "+---+-------------------+--------+-----+--------------------+-------------------+------------------+-------------------+\n",
      "only showing top 20 rows\n",
      "\n"
     ]
    },
    {
     "name": "stderr",
     "output_type": "stream",
     "text": [
      "                                                                                \r"
     ]
    }
   ],
   "source": [
    "cyclistes2.show()"
   ]
  },
  {
   "cell_type": "markdown",
   "metadata": {},
   "source": [
    "## vérifier les comptes"
   ]
  },
  {
   "cell_type": "code",
   "execution_count": 22,
   "metadata": {},
   "outputs": [
    {
     "name": "stderr",
     "output_type": "stream",
     "text": [
      "[Stage 48:=================================================>    (185 + 2) / 200]\r"
     ]
    },
    {
     "name": "stdout",
     "output_type": "stream",
     "text": [
      "+------------------+\n",
      "|count(DISTINCT id)|\n",
      "+------------------+\n",
      "|                50|\n",
      "+------------------+\n",
      "\n"
     ]
    },
    {
     "name": "stderr",
     "output_type": "stream",
     "text": [
      "                                                                                \r"
     ]
    }
   ],
   "source": [
    "from pyspark.sql.types import *\n",
    "from pyspark.sql       import functions as D\n",
    "cyclistes2.select(D.countDistinct(\"id\")).show()"
   ]
  },
  {
   "cell_type": "code",
   "execution_count": null,
   "metadata": {},
   "outputs": [],
   "source": [
    " "
   ]
  },
  {
   "cell_type": "markdown",
   "metadata": {},
   "source": [
    "## 6.4) Durée des trajets par id.\n",
    "\n",
    "A partir d'ici, il s'agit de traiter votre donnée pour récupérer la durée de chaque trajet effectué par chaque id.\n",
    "\n",
    "1) trouvez les dates min/max par état de sur_velo, puis par id ET par état de sur_velo."
   ]
  },
  {
   "cell_type": "code",
   "execution_count": 37,
   "metadata": {},
   "outputs": [
    {
     "name": "stderr",
     "output_type": "stream",
     "text": [
      "                                                                                \r"
     ]
    },
    {
     "name": "stdout",
     "output_type": "stream",
     "text": [
      "+--------+-------------------+-------------------+\n",
      "|sur_velo|          min(date)|          max(date)|\n",
      "+--------+-------------------+-------------------+\n",
      "|    true|2018-01-01 01:47:00|2018-01-31 21:32:00|\n",
      "|   false|2018-01-01 00:01:00|2018-02-01 00:00:00|\n",
      "+--------+-------------------+-------------------+\n",
      "\n"
     ]
    }
   ],
   "source": [
    "cyclistes2.groupBy(\"sur_velo\").agg(F.min(cyclistes2.date), F.max(cyclistes2.date)).show()"
   ]
  },
  {
   "cell_type": "code",
   "execution_count": 39,
   "metadata": {},
   "outputs": [
    {
     "name": "stderr",
     "output_type": "stream",
     "text": [
      "                                                                                \r"
     ]
    },
    {
     "name": "stdout",
     "output_type": "stream",
     "text": [
      "+---+--------+-------------------+-------------------+\n",
      "| id|sur_velo|          min(date)|          max(date)|\n",
      "+---+--------+-------------------+-------------------+\n",
      "| 30|   false|2018-01-01 00:01:00|2018-02-01 00:00:00|\n",
      "| 17|    true|2018-01-06 08:33:00|2018-01-28 15:35:00|\n",
      "|  6|    true|2018-01-01 07:07:00|2018-01-30 20:01:00|\n",
      "| 48|    true|2018-01-01 02:15:00|2018-01-31 17:57:00|\n",
      "|  3|    true|2018-01-06 06:24:00|2018-01-28 19:33:00|\n",
      "| 18|    true|2018-01-06 02:28:00|2018-01-28 16:50:00|\n",
      "|  7|    true|2018-01-01 06:33:00|2018-01-31 18:43:00|\n",
      "| 25|    true|2018-01-01 11:27:00|2018-01-30 11:30:00|\n",
      "| 42|   false|2018-01-01 00:01:00|2018-02-01 00:00:00|\n",
      "| 41|   false|2018-01-01 00:01:00|2018-02-01 00:00:00|\n",
      "| 29|   false|2018-01-01 00:01:00|2018-02-01 00:00:00|\n",
      "| 11|    true|2018-01-01 07:48:00|2018-01-31 14:05:00|\n",
      "|  9|    true|2018-01-06 06:54:00|2018-01-28 14:03:00|\n",
      "| 36|    true|2018-01-01 08:47:00|2018-01-31 21:32:00|\n",
      "|  6|   false|2018-01-01 00:01:00|2018-02-01 00:00:00|\n",
      "| 23|   false|2018-01-01 00:01:00|2018-02-01 00:00:00|\n",
      "|  4|   false|2018-01-01 00:01:00|2018-02-01 00:00:00|\n",
      "| 15|    true|2018-01-01 10:19:00|2018-01-31 20:31:00|\n",
      "| 41|    true|2018-01-01 08:38:00|2018-01-31 20:35:00|\n",
      "| 26|   false|2018-01-01 00:01:00|2018-02-01 00:00:00|\n",
      "+---+--------+-------------------+-------------------+\n",
      "only showing top 20 rows\n",
      "\n"
     ]
    }
   ],
   "source": [
    "(cyclistes2.groupBy(\"id\" , \"sur_velo\")).agg(F.min(cyclistes2.date), F.max(cyclistes2.date)).show()"
   ]
  },
  {
   "cell_type": "code",
   "execution_count": null,
   "metadata": {},
   "outputs": [],
   "source": []
  },
  {
   "cell_type": "markdown",
   "metadata": {},
   "source": [
    "## 6.5) détecter les changements d'états \"sur un vélo\" ou pas : window et lag\n",
    "2) Le résultat n'est pas trés pertinent, il faudrait plutôt le début et la fin de chaque trajet par id. Pour cela, il faudrait détecter les changements d'états \"sur_vélo\".\n",
    "Utilisez la classe Window() et la fonction F.lag() pour créer une nouvelle colonne que vous appellerez changement, contenant un 0 si l'état précedent de sur_velo est le même et un 1 si l'état vient de changer (fonction changement() ci-dessous) pour chaque id."
   ]
  },
  {
   "cell_type": "code",
   "execution_count": 40,
   "metadata": {},
   "outputs": [],
   "source": [
    "from pyspark.sql.functions import udf"
   ]
  },
  {
   "cell_type": "code",
   "execution_count": 41,
   "metadata": {},
   "outputs": [],
   "source": [
    "@udf(returnType = IntegerType())\n",
    "def changement(etat_actuel, etat_precedent):\n",
    "    \"\"\"\n",
    "    Détecte si les deux états sont différent.\n",
    "    \n",
    "    Parametres :\n",
    "        etat_actuel : valeur sur la ligne courante\n",
    "                      renvoyée par F.lag (0) \n",
    "        etat_precedent : valeur sur la ligne précédente\n",
    "                      renvoyée par F.lag(1)\n",
    "    Return: 0 s'ils sont égaux, 1 s'il y a une différence\n",
    "    \"\"\"\n",
    "    if etat_precedent == None:\n",
    "        return 0\n",
    "    if etat_precedent == etat_actuel:\n",
    "        return 0\n",
    "    if etat_actuel != etat_precedent:\n",
    "        return 1"
   ]
  },
  {
   "cell_type": "code",
   "execution_count": 42,
   "metadata": {},
   "outputs": [],
   "source": [
    "from pyspark.sql.window import Window\n",
    "w = Window.orderBy([\"id\", \"date\"])"
   ]
  },
  {
   "cell_type": "code",
   "execution_count": 49,
   "metadata": {},
   "outputs": [
    {
     "ename": "TypeError",
     "evalue": "Invalid argument, not a string or column: 0 of type <class 'int'>. For column literals, use 'lit', 'array', 'struct' or 'create_map' function.",
     "output_type": "error",
     "traceback": [
      "\u001b[0;31m---------------------------------------------------------------------------\u001b[0m",
      "\u001b[0;31mTypeError\u001b[0m                                 Traceback (most recent call last)",
      "Cell \u001b[0;32mIn [49], line 1\u001b[0m\n\u001b[0;32m----> 1\u001b[0m cyclistes3 \u001b[38;5;241m=\u001b[39m cyclistes2\u001b[38;5;241m.\u001b[39mwithColumn(\u001b[38;5;124m\"\u001b[39m\u001b[38;5;124mchangement\u001b[39m\u001b[38;5;124m\"\u001b[39m ,changement(cyclistes2\u001b[38;5;241m.\u001b[39msur_velo(\u001b[43mF\u001b[49m\u001b[38;5;241;43m.\u001b[39;49m\u001b[43mlag\u001b[49m\u001b[43m(\u001b[49m\u001b[38;5;241;43m0\u001b[39;49m\u001b[43m)\u001b[49m), sur_velo(F\u001b[38;5;241m.\u001b[39mlag(\u001b[38;5;241m1\u001b[39m))))\n",
      "File \u001b[0;32m/usr/local/lib/python3.9/dist-packages/pyspark/sql/functions.py:871\u001b[0m, in \u001b[0;36mlag\u001b[0;34m(col, offset, default)\u001b[0m\n\u001b[1;32m    859\u001b[0m \u001b[38;5;124;03m\"\"\"\u001b[39;00m\n\u001b[1;32m    860\u001b[0m \u001b[38;5;124;03mWindow function: returns the value that is `offset` rows before the current row, and\u001b[39;00m\n\u001b[1;32m    861\u001b[0m \u001b[38;5;124;03m`defaultValue` if there is less than `offset` rows before the current row. For example,\u001b[39;00m\n\u001b[0;32m   (...)\u001b[0m\n\u001b[1;32m    868\u001b[0m \u001b[38;5;124;03m:param default: default value\u001b[39;00m\n\u001b[1;32m    869\u001b[0m \u001b[38;5;124;03m\"\"\"\u001b[39;00m\n\u001b[1;32m    870\u001b[0m sc \u001b[38;5;241m=\u001b[39m SparkContext\u001b[38;5;241m.\u001b[39m_active_spark_context\n\u001b[0;32m--> 871\u001b[0m \u001b[38;5;28;01mreturn\u001b[39;00m Column(sc\u001b[38;5;241m.\u001b[39m_jvm\u001b[38;5;241m.\u001b[39mfunctions\u001b[38;5;241m.\u001b[39mlag(\u001b[43m_to_java_column\u001b[49m\u001b[43m(\u001b[49m\u001b[43mcol\u001b[49m\u001b[43m)\u001b[49m, offset, default))\n",
      "File \u001b[0;32m/usr/local/lib/python3.9/dist-packages/pyspark/sql/column.py:52\u001b[0m, in \u001b[0;36m_to_java_column\u001b[0;34m(col)\u001b[0m\n\u001b[1;32m     50\u001b[0m     jcol \u001b[38;5;241m=\u001b[39m _create_column_from_name(col)\n\u001b[1;32m     51\u001b[0m \u001b[38;5;28;01melse\u001b[39;00m:\n\u001b[0;32m---> 52\u001b[0m     \u001b[38;5;28;01mraise\u001b[39;00m \u001b[38;5;167;01mTypeError\u001b[39;00m(\n\u001b[1;32m     53\u001b[0m         \u001b[38;5;124m\"\u001b[39m\u001b[38;5;124mInvalid argument, not a string or column: \u001b[39m\u001b[38;5;124m\"\u001b[39m\n\u001b[1;32m     54\u001b[0m         \u001b[38;5;124m\"\u001b[39m\u001b[38;5;132;01m{0}\u001b[39;00m\u001b[38;5;124m of type \u001b[39m\u001b[38;5;132;01m{1}\u001b[39;00m\u001b[38;5;124m. \u001b[39m\u001b[38;5;124m\"\u001b[39m\n\u001b[1;32m     55\u001b[0m         \u001b[38;5;124m\"\u001b[39m\u001b[38;5;124mFor column literals, use \u001b[39m\u001b[38;5;124m'\u001b[39m\u001b[38;5;124mlit\u001b[39m\u001b[38;5;124m'\u001b[39m\u001b[38;5;124m, \u001b[39m\u001b[38;5;124m'\u001b[39m\u001b[38;5;124marray\u001b[39m\u001b[38;5;124m'\u001b[39m\u001b[38;5;124m, \u001b[39m\u001b[38;5;124m'\u001b[39m\u001b[38;5;124mstruct\u001b[39m\u001b[38;5;124m'\u001b[39m\u001b[38;5;124m or \u001b[39m\u001b[38;5;124m'\u001b[39m\u001b[38;5;124mcreate_map\u001b[39m\u001b[38;5;124m'\u001b[39m\u001b[38;5;124m \u001b[39m\u001b[38;5;124m\"\u001b[39m\n\u001b[1;32m     56\u001b[0m         \u001b[38;5;124m\"\u001b[39m\u001b[38;5;124mfunction.\u001b[39m\u001b[38;5;124m\"\u001b[39m\u001b[38;5;241m.\u001b[39mformat(col, \u001b[38;5;28mtype\u001b[39m(col)))\n\u001b[1;32m     57\u001b[0m \u001b[38;5;28;01mreturn\u001b[39;00m jcol\n",
      "\u001b[0;31mTypeError\u001b[0m: Invalid argument, not a string or column: 0 of type <class 'int'>. For column literals, use 'lit', 'array', 'struct' or 'create_map' function."
     ]
    }
   ],
   "source": [
    "cyclistes3 = cyclistes2.withColumn(\"changement\" ,changement(F.lag(\"sur_velo\" ,0  sur_velo(F.lag(1))))"
   ]
  },
  {
   "cell_type": "markdown",
   "metadata": {},
   "source": [
    "collecter les données d'un id et verifier sa position lors des changements d'etats"
   ]
  },
  {
   "cell_type": "code",
   "execution_count": null,
   "metadata": {},
   "outputs": [],
   "source": []
  },
  {
   "cell_type": "markdown",
   "metadata": {},
   "source": [
    "## 6.6) somme partielle par sous groupe : windows\n",
    "Grâce à la fonction window appliquez la fonction somme() sur la colonne changement pour numeroter les trajets pour chaque id et stocker les résulats dans une nouvelle colonne appelée numero_de_trajet.\n",
    "\n",
    "\n",
    "[windows fonctions](https://www.quantmetry.com/blog/window-functions-spark/)\n"
   ]
  },
  {
   "cell_type": "code",
   "execution_count": null,
   "metadata": {},
   "outputs": [],
   "source": [
    "@udf(returnType = IntegerType())\n",
    "def somme(indice_actuel, indice_precedent):\n",
    "    if indice_precedent == None:\n",
    "        return 0\n",
    "6.6) somme partielle par sous groupe : windows\n",
    "Grâce à la fonction window appliquez la fonction somme() sur la colonne changement pour numeroter les trajets pour chaque id et stocker les résulats dans une nouvelle colonne appelée numero_de_trajet.\n",
    "\n",
    "windows fonctions\n",
    "\n",
    "1\n",
    "@udf(returnType = IntegerType())\n",
    "2\n",
    "def somme(indice_actuel, indice_precedent):\n",
    "3\n",
    "    if indice_precedent == None:\n",
    "4\n",
    "        return 0\n",
    "5\n",
    "    return indice_actuel + indice_precedent\n",
    "1●\n",
    "​    return indice_actuel + indice_precedent"
   ]
  },
  {
   "cell_type": "code",
   "execution_count": null,
   "metadata": {},
   "outputs": [],
   "source": []
  },
  {
   "cell_type": "code",
   "execution_count": null,
   "metadata": {},
   "outputs": [],
   "source": []
  },
  {
   "cell_type": "code",
   "execution_count": null,
   "metadata": {},
   "outputs": [],
   "source": []
  },
  {
   "cell_type": "markdown",
   "metadata": {},
   "source": [
    "## 6.7) Calculer la durée du trajet\n",
    "\n",
    "Il suffit maintenant de repêter la première étape, c'est a dire récupérer la début et la fin de chaque trajet pour chaque id. Puis calculer la durée des trajets."
   ]
  },
  {
   "cell_type": "code",
   "execution_count": null,
   "metadata": {},
   "outputs": [],
   "source": []
  },
  {
   "cell_type": "code",
   "execution_count": null,
   "metadata": {},
   "outputs": [],
   "source": []
  },
  {
   "cell_type": "code",
   "execution_count": null,
   "metadata": {},
   "outputs": [],
   "source": []
  },
  {
   "cell_type": "markdown",
   "metadata": {},
   "source": [
    "# 7) datavisualisation\n",
    "Convertissez votre dataframe pyspark en dataframe pandas."
   ]
  },
  {
   "cell_type": "code",
   "execution_count": null,
   "metadata": {},
   "outputs": [],
   "source": []
  },
  {
   "cell_type": "code",
   "execution_count": null,
   "metadata": {},
   "outputs": [],
   "source": []
  },
  {
   "cell_type": "markdown",
   "metadata": {},
   "source": [
    "A l'aide de la librairie seaborn, réalisez un graphique en barre montrant la durée de tout les trajets."
   ]
  },
  {
   "cell_type": "code",
   "execution_count": null,
   "metadata": {},
   "outputs": [],
   "source": []
  },
  {
   "cell_type": "code",
   "execution_count": null,
   "metadata": {},
   "outputs": [],
   "source": []
  },
  {
   "cell_type": "markdown",
   "metadata": {},
   "source": [
    "Faire le même graphique mais cette fois-ci, faire en sorte qu'on puisse choisir un id et afficher seulement les trajets de cet id."
   ]
  },
  {
   "cell_type": "code",
   "execution_count": null,
   "metadata": {},
   "outputs": [],
   "source": []
  },
  {
   "cell_type": "code",
   "execution_count": null,
   "metadata": {},
   "outputs": [],
   "source": []
  },
  {
   "cell_type": "markdown",
   "metadata": {},
   "source": [
    "Sauvegardez votre dataset trajets au format csv dans le dossier data."
   ]
  },
  {
   "cell_type": "code",
   "execution_count": null,
   "metadata": {},
   "outputs": [],
   "source": []
  },
  {
   "cell_type": "code",
   "execution_count": 1,
   "metadata": {},
   "outputs": [
    {
     "name": "stderr",
     "output_type": "stream",
     "text": [
      "22/11/16 14:06:31 WARN NativeCodeLoader: Unable to load native-hadoop library for your platform... using builtin-java classes where applicable\n",
      "Using Spark's default log4j profile: org/apache/spark/log4j-defaults.properties\n",
      "Setting default log level to \"WARN\".\n",
      "To adjust logging level use sc.setLogLevel(newLevel). For SparkR, use setLogLevel(newLevel).\n",
      "                                                                                \r"
     ]
    },
    {
     "name": "stdout",
     "output_type": "stream",
     "text": [
      "+-----------+-------------+---------------------+---------------+\n",
      "|Observatory|agglomeration|moyenne_loyer_mensuel|surface_moyenne|\n",
      "+-----------+-------------+---------------------+---------------+\n",
      "|      B0600|         Nice|                  738|             57|\n",
      "|      B0600|         Nice|                 null|           null|\n",
      "|      B0600|         Nice|                 1089|             98|\n",
      "|      B0600|         Nice|                 null|           null|\n",
      "|      B0600|         Nice|                  493|             29|\n",
      "|      B0600|         Nice|                  655|             46|\n",
      "|      B0600|         Nice|                  840|             69|\n",
      "|      B0600|         Nice|                 1022|             92|\n",
      "|      B0600|         Nice|                  493|             29|\n",
      "|      B0600|         Nice|                  652|             46|\n",
      "|      B0600|         Nice|                  844|             69|\n",
      "|      B0600|         Nice|                  741|             54|\n",
      "|      B0600|         Nice|                 1195|            103|\n",
      "|      B0600|         Nice|                  495|             28|\n",
      "|      B0600|         Nice|                  668|             46|\n",
      "|      B0600|         Nice|                  874|             68|\n",
      "|      B0600|         Nice|                  738|             58|\n",
      "|      B0600|         Nice|                 null|           null|\n",
      "|      B0600|         Nice|                 null|           null|\n",
      "|      B0600|         Nice|                 null|           null|\n",
      "+-----------+-------------+---------------------+---------------+\n",
      "only showing top 20 rows\n",
      "\n"
     ]
    }
   ],
   "source": [
    "\n",
    "from pyspark.sql import SparkSession\n",
    "spark1 = SparkSession.\\\n",
    "        builder.\\\n",
    "        appName(\"pyspark-notebook\").\\\n",
    "        master(\"spark://spark-master:7077\").\\\n",
    "        config(\"spark.executor.memory\", \"2g\").\\\n",
    "        getOrCreate() \n",
    "path1 = 'hdfs://namenode:9000/bases/carbu.csv'\n",
    "path2 = 'hdfs://namenode:9000/bases/loyer.csv'\n",
    "path3 = 'hdfs://namenode:9000/bases/presi.csv'\n",
    "path4 = 'hdfs://namenode:9000/bases/ecoles.csv'\n",
    "path5 = 'hdfs://namenode:9000/bases/loc.csv'\n",
    "df = spark1.read.format('csv').options(header=True).load(path2)\n",
    "df.show()"
   ]
  },
  {
   "cell_type": "code",
   "execution_count": 2,
   "metadata": {},
   "outputs": [
    {
     "name": "stderr",
     "output_type": "stream",
     "text": [
      "                                                                                \r"
     ]
    },
    {
     "name": "stdout",
     "output_type": "stream",
     "text": [
      "+--------+-----+--------------------+-----------+--------+--------+--------------------+--------+--------------------+--------+--------------------+\n",
      "|      id|   cp|               ville|prix_valeur|prix_nom|dep_code|            dep_name|reg_code|            reg_name|com_code|            com_name|\n",
      "+--------+-----+--------------------+-----------+--------+--------+--------------------+--------+--------------------+--------+--------------------+\n",
      "|54300001|54300|Moncel-lès-Lunéville|      1.717|     E10|      54|  Meurthe-et-Moselle|      44|           Grand Est|   54373|Moncel-lès-Lunéville|\n",
      "|77260008|77260|La Ferté-sous-Jou...|      2.134|  Gazole|      77|      Seine-et-Marne|      11|       Île-de-France|   77478|      Ussy-sur-Marne|\n",
      "|63230001|63230|         LA GOUTELLE|      1.751|  Gazole|      63|         Puy-de-Dôme|      84|Auvergne-Rhône-Alpes|   63170|         La Goutelle|\n",
      "|72800003|72800|             LE LUDE|      1.758|  Gazole|      72|              Sarthe|      52|    Pays de la Loire|   72176|             Le Lude|\n",
      "|94290003|94290|   VILLENEUVE-LE-ROI|       2.39|    SP98|      94|        Val-de-Marne|      11|       Île-de-France|   94077|   Villeneuve-le-Roi|\n",
      "| 8600002| 8600|               Givet|       1.89|    SP95|       8|            Ardennes|      44|           Grand Est|    8190|               Givet|\n",
      "|18200011|18200|    FARGE ALLICHAMPS|      1.914|    SP98|      18|                Cher|      24| Centre-Val de Loire|   18091|   Farges-Allichamps|\n",
      "|21340002|21340|               Nolay|       1.78|  Gazole|      21|           Côte-d'Or|      27|Bourgogne-Franche...|   21461|               Nolay|\n",
      "|15400004|15400|   Riom-es-Montagnes|      1.659|    SP95|      15|              Cantal|      84|Auvergne-Rhône-Alpes|   15162|   Riom-ès-Montagnes|\n",
      "|65310001|65310|           LALOUBERE|      1.969|  Gazole|      65|     Hautes-Pyrénées|      76|           Occitanie|   65251|           Laloubère|\n",
      "|65310001|65310|           LALOUBERE|      1.859|    SP98|      65|     Hautes-Pyrénées|      76|           Occitanie|   65251|           Laloubère|\n",
      "|13097001|13090|     AIX-EN-PROVENCE|      1.839|  Gazole|      13|    Bouches-du-Rhône|      93|Provence-Alpes-Cô...|   13001|     Aix-en-Provence|\n",
      "|60280001|60280|             VENETTE|      1.593|     E10|      60|                Oise|      32|     Hauts-de-France|   60665|             Venette|\n",
      "|40400001|40400|              TARTAS|      1.617|    SP98|      40|              Landes|      75|  Nouvelle-Aquitaine|   40313|              Tartas|\n",
      "|78000020|78000|          VERSAILLES|      1.799|  Gazole|      78|            Yvelines|      11|       Île-de-France|   78646|          Versailles|\n",
      "|62180002|62180|      RANG-DU-FLIERS|      1.639|     E10|      62|       Pas-de-Calais|      32|     Hauts-de-France|   62688|      Rang-du-Fliers|\n",
      "|64140001|64140|                LONS|      0.715|    GPLc|      64|Pyrénées-Atlantiques|      75|  Nouvelle-Aquitaine|   64348|                Lons|\n",
      "|30980001|30980|       SAINT-DIONIZY|      1.699|    SP98|      30|                Gard|      76|           Occitanie|   30249|       Saint-Dionisy|\n",
      "|69300001|69300|    Caluire-et-Cuire|      1.553|     E10|      69|               Rhône|      84|Auvergne-Rhône-Alpes|   69034|    Caluire-et-Cuire|\n",
      "|69300001|69300|    Caluire-et-Cuire|      1.654|    SP98|      69|               Rhône|      84|Auvergne-Rhône-Alpes|   69034|    Caluire-et-Cuire|\n",
      "+--------+-----+--------------------+-----------+--------+--------+--------------------+--------+--------------------+--------+--------------------+\n",
      "only showing top 20 rows\n",
      "\n"
     ]
    }
   ],
   "source": [
    "\n",
    "df1 = spark1.read.format('csv').options(header=True).load(path1)\n",
    "df2 = spark1.read.format('csv').options(header=True).load(path2)\n",
    "df3 = spark1.read.format('csv').options(header=True).load(path3)\n",
    "df4 = spark1.read.format('csv').options(header=True).load(path4)\n",
    "df5 = spark1.read.format('csv').options(header=True).load(path5)\n",
    "df1.show()"
   ]
  },
  {
   "cell_type": "code",
   "execution_count": 4,
   "metadata": {},
   "outputs": [
    {
     "name": "stderr",
     "output_type": "stream",
     "text": [
      "                                                                                \r"
     ]
    },
    {
     "name": "stdout",
     "output_type": "stream",
     "text": [
      "+--------------------+---------+\n",
      "|      libelle_region|NbreEcole|\n",
      "+--------------------+---------+\n",
      "|    Pays de la Loire|     3692|\n",
      "|Bourgogne-Franche...|     3369|\n",
      "| Centre-Val de Loire|     2703|\n",
      "|Auvergne-Rhône-Alpes|     7904|\n",
      "|           Grand Est|     5655|\n",
      "|              Guyane|      273|\n",
      "|          Martinique|      376|\n",
      "|TOM et Collectivi...|      758|\n",
      "|     Hauts-de-France|     6355|\n",
      "|  Nouvelle-Aquitaine|     6266|\n",
      "|               Corse|      329|\n",
      "|          Guadeloupe|      417|\n",
      "|           Occitanie|     5963|\n",
      "|             Mayotte|      273|\n",
      "|            Bretagne|     3078|\n",
      "|           Normandie|     3353|\n",
      "|       Ile-de-France|     9489|\n",
      "|          La Réunion|      753|\n",
      "|Provence-Alpes-Cô...|     4144|\n",
      "+--------------------+---------+\n",
      "\n"
     ]
    }
   ],
   "source": [
    "from pyspark.sql.types import *\n",
    "from pyspark.sql       import functions as D\n",
    "dfEc = df4.groupBy('libelle_commune').agg(D.count(df4.numero_uai).alias('NbreEcole'))\n",
    "dfEc.show()"
   ]
  },
  {
   "cell_type": "code",
   "execution_count": null,
   "metadata": {},
   "outputs": [],
   "source": []
  },
  {
   "cell_type": "code",
   "execution_count": 22,
   "metadata": {},
   "outputs": [
    {
     "name": "stderr",
     "output_type": "stream",
     "text": [
      "                                                                                \r"
     ]
    },
    {
     "name": "stdout",
     "output_type": "stream",
     "text": [
      "+--------+--------------------+------------------+\n",
      "|prix_nom|            reg_name|  avg(prix_valeur)|\n",
      "+--------+--------------------+------------------+\n",
      "|     E10|     Hauts-de-France|1.6312228360957637|\n",
      "|    null|    Pays de la Loire|              null|\n",
      "|     E85|  Nouvelle-Aquitaine|0.8160032258064519|\n",
      "|     E10|Auvergne-Rhône-Alpes|1.6168676056338016|\n",
      "|    GPLc|           Grand Est| 0.789674796747967|\n",
      "|    SP98|           Normandie|1.7502562500000003|\n",
      "|    SP98|            Bretagne|1.7341771300448459|\n",
      "|     E85|Provence-Alpes-Cô...|0.7938698884758365|\n",
      "|  Gazole|Provence-Alpes-Cô...|1.8847744458930904|\n",
      "|     E85|     Hauts-de-France|0.8012479338842983|\n",
      "|     E85|           Occitanie|0.7992165775401066|\n",
      "|    GPLc|           Normandie|0.7460285714285716|\n",
      "|     E85|            Bretagne|0.8155542857142861|\n",
      "|     E10|Provence-Alpes-Cô...|1.5901642743221682|\n",
      "|  Gazole|           Normandie|1.9108457249070612|\n",
      "|    null|Bourgogne-Franche...|              null|\n",
      "|    null| Centre-Val de Loire|              null|\n",
      "|    SP95|Bourgogne-Franche...|1.7305422222222213|\n",
      "|  Gazole|           Grand Est|1.9472396907216534|\n",
      "|     E10|                null|            1.4975|\n",
      "+--------+--------------------+------------------+\n",
      "only showing top 20 rows\n",
      "\n"
     ]
    }
   ],
   "source": [
    "dfCar = df1.groupBy('prix_nom', 'reg_name').agg(D.avg(df1.prix_valeur)).show()"
   ]
  },
  {
   "cell_type": "code",
   "execution_count": 24,
   "metadata": {},
   "outputs": [
    {
     "name": "stdout",
     "output_type": "stream",
     "text": [
      "+--------+--------------------+----------------+\n",
      "|prix_nom|            reg_name|max(prix_valeur)|\n",
      "+--------+--------------------+----------------+\n",
      "|     E10|     Hauts-de-France|           2.049|\n",
      "|    null|    Pays de la Loire|            null|\n",
      "|     E85|  Nouvelle-Aquitaine|           1.811|\n",
      "|     E10|Auvergne-Rhône-Alpes|           2.059|\n",
      "|    GPLc|           Grand Est|           1.149|\n",
      "|    SP98|           Normandie|           2.095|\n",
      "|    SP98|            Bretagne|            2.73|\n",
      "|     E85|Provence-Alpes-Cô...|           1.625|\n",
      "|  Gazole|Provence-Alpes-Cô...|             2.4|\n",
      "|     E85|     Hauts-de-France|           1.861|\n",
      "|     E85|           Occitanie|           1.739|\n",
      "|    GPLc|           Normandie|           0.997|\n",
      "|     E85|            Bretagne|           1.985|\n",
      "|     E10|Provence-Alpes-Cô...|           2.379|\n",
      "|  Gazole|           Normandie|            2.27|\n",
      "|    null|Bourgogne-Franche...|            null|\n",
      "|    null| Centre-Val de Loire|            null|\n",
      "|  Gazole|           Grand Est|            2.24|\n",
      "|    SP95|Bourgogne-Franche...|           2.119|\n",
      "|     E10|                null|            1.56|\n",
      "+--------+--------------------+----------------+\n",
      "only showing top 20 rows\n",
      "\n"
     ]
    }
   ],
   "source": [
    "dfCar = df1.groupBy('prix_nom', 'reg_name').agg(D.avg(df1.prix_valeur)).show()"
   ]
  },
  {
   "cell_type": "code",
   "execution_count": null,
   "metadata": {},
   "outputs": [],
   "source": []
  },
  {
   "cell_type": "code",
   "execution_count": 13,
   "metadata": {},
   "outputs": [
    {
     "data": {
      "text/plain": [
       "Row(Observatory='B0600', agglomeration='Nice', moyenne_loyer_mensuel='777', surface_moyenne='56', numero_uai='0060048V', code_postal_uai='6200', libelle_commune='Nice', code_departement='6', code_region='93', libelle_departement='Alpes-Maritimes', libelle_region=\"Provence-Alpes-Côte d'Azur\", libelle_academie='Nice', date_ouverture='5/1/1965')"
      ]
     },
     "execution_count": 13,
     "metadata": {},
     "output_type": "execute_result"
    }
   ],
   "source": [
    " LocEco = df2.join(df4, df2.agglomeration == df4.libelle_commune , 'inner')\n",
    "LocEco.first()"
   ]
  },
  {
   "cell_type": "code",
   "execution_count": 16,
   "metadata": {},
   "outputs": [
    {
     "name": "stdout",
     "output_type": "stream",
     "text": [
      "+-----------+-------------+---------------------+---------------+--------+-----+--------+-----------+--------+--------+--------+--------+--------------------+--------+--------+\n",
      "|Observatory|agglomeration|moyenne_loyer_mensuel|surface_moyenne|      id|   cp|   ville|prix_valeur|prix_nom|dep_code|dep_name|reg_code|            reg_name|com_code|com_name|\n",
      "+-----------+-------------+---------------------+---------------+--------+-----+--------+-----------+--------+--------+--------+--------+--------------------+--------+--------+\n",
      "|      B3800|     Grenoble|                  705|             64|38100003|38100|Grenoble|      1.779|     E10|      38|   Isère|      84|Auvergne-Rhône-Alpes|   38185|Grenoble|\n",
      "|      B3800|     Grenoble|                  651|             57|38100003|38100|Grenoble|      1.779|     E10|      38|   Isère|      84|Auvergne-Rhône-Alpes|   38185|Grenoble|\n",
      "|      B3800|     Grenoble|                  884|             87|38100003|38100|Grenoble|      1.779|     E10|      38|   Isère|      84|Auvergne-Rhône-Alpes|   38185|Grenoble|\n",
      "|      B3800|     Grenoble|                  728|             69|38100003|38100|Grenoble|      1.779|     E10|      38|   Isère|      84|Auvergne-Rhône-Alpes|   38185|Grenoble|\n",
      "|      B3800|     Grenoble|                  588|             46|38100003|38100|Grenoble|      1.779|     E10|      38|   Isère|      84|Auvergne-Rhône-Alpes|   38185|Grenoble|\n",
      "|      B3800|     Grenoble|                  406|             29|38100003|38100|Grenoble|      1.779|     E10|      38|   Isère|      84|Auvergne-Rhône-Alpes|   38185|Grenoble|\n",
      "|      B3800|     Grenoble|                  681|             61|38100003|38100|Grenoble|      1.779|     E10|      38|   Isère|      84|Auvergne-Rhône-Alpes|   38185|Grenoble|\n",
      "|      B3800|     Grenoble|                  690|             68|38100003|38100|Grenoble|      1.779|     E10|      38|   Isère|      84|Auvergne-Rhône-Alpes|   38185|Grenoble|\n",
      "|      B3800|     Grenoble|                  606|             57|38100003|38100|Grenoble|      1.779|     E10|      38|   Isère|      84|Auvergne-Rhône-Alpes|   38185|Grenoble|\n",
      "|      B3800|     Grenoble|                  868|             95|38100003|38100|Grenoble|      1.779|     E10|      38|   Isère|      84|Auvergne-Rhône-Alpes|   38185|Grenoble|\n",
      "|      B3800|     Grenoble|                  693|             69|38100003|38100|Grenoble|      1.779|     E10|      38|   Isère|      84|Auvergne-Rhône-Alpes|   38185|Grenoble|\n",
      "|      B3800|     Grenoble|                  552|             48|38100003|38100|Grenoble|      1.779|     E10|      38|   Isère|      84|Auvergne-Rhône-Alpes|   38185|Grenoble|\n",
      "|      B3800|     Grenoble|                  405|             29|38100003|38100|Grenoble|      1.779|     E10|      38|   Isère|      84|Auvergne-Rhône-Alpes|   38185|Grenoble|\n",
      "|      B3800|     Grenoble|                  659|             64|38100003|38100|Grenoble|      1.779|     E10|      38|   Isère|      84|Auvergne-Rhône-Alpes|   38185|Grenoble|\n",
      "|      B3800|     Grenoble|                  624|             68|38100003|38100|Grenoble|      1.779|     E10|      38|   Isère|      84|Auvergne-Rhône-Alpes|   38185|Grenoble|\n",
      "|      B3800|     Grenoble|                  609|             63|38100003|38100|Grenoble|      1.779|     E10|      38|   Isère|      84|Auvergne-Rhône-Alpes|   38185|Grenoble|\n",
      "|      B3800|     Grenoble|                  749|             89|38100003|38100|Grenoble|      1.779|     E10|      38|   Isère|      84|Auvergne-Rhône-Alpes|   38185|Grenoble|\n",
      "|      B3800|     Grenoble|                  639|             70|38100003|38100|Grenoble|      1.779|     E10|      38|   Isère|      84|Auvergne-Rhône-Alpes|   38185|Grenoble|\n",
      "|      B3800|     Grenoble|                  533|             50|38100003|38100|Grenoble|      1.779|     E10|      38|   Isère|      84|Auvergne-Rhône-Alpes|   38185|Grenoble|\n",
      "|      B3800|     Grenoble|                  392|             30|38100003|38100|Grenoble|      1.779|     E10|      38|   Isère|      84|Auvergne-Rhône-Alpes|   38185|Grenoble|\n",
      "+-----------+-------------+---------------------+---------------+--------+-----+--------+-----------+--------+--------+--------+--------+--------------------+--------+--------+\n",
      "only showing top 20 rows\n",
      "\n"
     ]
    },
    {
     "name": "stderr",
     "output_type": "stream",
     "text": [
      "                                                                                \r"
     ]
    }
   ],
   "source": [
    "LocCar = df2.join(df1, df2.agglomeration == df1.ville , 'inner')\n",
    "LocCar.show()"
   ]
  },
  {
   "cell_type": "code",
   "execution_count": 23,
   "metadata": {},
   "outputs": [
    {
     "name": "stderr",
     "output_type": "stream",
     "text": [
      "[Stage 39:======================================================> (55 + 1) / 57]\r"
     ]
    },
    {
     "name": "stdout",
     "output_type": "stream",
     "text": [
      "+--------------------+------------------+\n",
      "|       agglomeration|             locm2|\n",
      "+--------------------+------------------+\n",
      "|    Pays de Challans| 8.290620043482633|\n",
      "|Agglomération d'A...| 8.914890079408494|\n",
      "|Sud Loire - proch...| 7.075522689611067|\n",
      "|Teste-de-Buch-Arc...|10.388780300464141|\n",
      "|    La Roche-sur-Yon| 7.931202262569315|\n",
      "|                Nice|13.708420636404384|\n",
      "|         Montpellier|11.582946078189531|\n",
      "|              Toulon|11.159646346671856|\n",
      "|            Grenoble|10.563314296753283|\n",
      "|               Lille|10.896751570225993|\n",
      "|    Clermont-Ferrand|  8.60140410157928|\n",
      "|              Nantes|10.518386291726392|\n",
      "|           Marseille|11.933605169520643|\n",
      "|          Draguignan| 9.826129102555557|\n",
      "|               Paris|  20.7089925991274|\n",
      "|Eurométropole de ...| 9.955287414353323|\n",
      "|                Lyon|11.390500853450707|\n",
      "|Unité urbaine de ...|10.934787196437995|\n",
      "|Agglomération d'A...|11.933605169520643|\n",
      "|Agglomération d'A...|  7.65010831564793|\n",
      "+--------------------+------------------+\n",
      "only showing top 20 rows\n",
      "\n"
     ]
    },
    {
     "name": "stderr",
     "output_type": "stream",
     "text": [
      "                                                                                \r"
     ]
    }
   ],
   "source": [
    "temp = df2.withColumn(\"prix_m2\",(df2.moyenne_loyer_mensuel/df2.surface_moyenne))\n",
    "prix_m2 = temp.groupBy(\"agglomeration\").agg(D.avg(temp.prix_m2).alias('locm2'))\n",
    "prix_m2.show()"
   ]
  },
  {
   "cell_type": "code",
   "execution_count": 24,
   "metadata": {},
   "outputs": [
    {
     "name": "stderr",
     "output_type": "stream",
     "text": [
      "                                                                                \r"
     ]
    }
   ],
   "source": [
    "import pandas as pds\n",
    "locPN = prix_m2.toPandas()"
   ]
  },
  {
   "cell_type": "code",
   "execution_count": 25,
   "metadata": {},
   "outputs": [
    {
     "name": "stdout",
     "output_type": "stream",
     "text": [
      "                     agglomeration      locm2\n",
      "0                 Pays de Challans   8.290620\n",
      "1            Agglomération d'Arles   8.914890\n",
      "2   Sud Loire - proche Haute-Loire   7.075523\n",
      "3           Teste-de-Buch-Arcachon  10.388780\n",
      "4                 La Roche-sur-Yon   7.931202\n",
      "5                             Nice  13.708421\n",
      "6                      Montpellier  11.582946\n",
      "7                           Toulon  11.159646\n",
      "8                         Grenoble  10.563314\n",
      "9                            Lille  10.896752\n",
      "10                Clermont-Ferrand   8.601404\n",
      "11                          Nantes  10.518386\n",
      "12                       Marseille  11.933605\n",
      "13                      Draguignan   9.826129\n",
      "14                           Paris  20.708993\n",
      "15     Eurométropole de Strasbourg   9.955287\n",
      "16                            Lyon  11.390501\n",
      "17      Unité urbaine de l'Bayonne  10.934787\n",
      "18   Agglomération d'Aix-Marseille  11.933605\n",
      "19         Agglomération d'Alençon   7.650108\n",
      "20                        Bordeaux  10.860518\n",
      "21                           Nîmes   9.209716\n",
      "22                        Besançon   9.149449\n",
      "23                        Toulouse  10.543273\n",
      "24                          Rennes  10.327123\n",
      "25                     Montbéliard   7.321496\n",
      "26                           Nancy   9.138252\n",
      "27                          Fréjus  12.178095\n",
      "28                           Brest   8.314868\n",
      "29                           Douai   8.290428\n",
      "30                     La Rochelle  11.500213\n",
      "31             Les Sables d'Olonne   9.237499\n",
      "32                            Sète   9.731009\n",
      "33              Paris (hors Paris)  16.222540\n"
     ]
    }
   ],
   "source": [
    "print(locPN)"
   ]
  },
  {
   "cell_type": "code",
   "execution_count": 9,
   "metadata": {},
   "outputs": [
    {
     "name": "stdout",
     "output_type": "stream",
     "text": [
      "Requirement already satisfied: pyspark in /usr/local/lib/python3.9/dist-packages (3.0.0)\n",
      "Requirement already satisfied: py4j==0.10.9 in /usr/local/lib/python3.9/dist-packages (from pyspark) (0.10.9)\n",
      "\u001b[33mWARNING: Running pip as the 'root' user can result in broken permissions and conflicting behaviour with the system package manager. It is recommended to use a virtual environment instead: https://pip.pypa.io/warnings/venv\u001b[0m\u001b[33m\n",
      "\u001b[0m\n",
      "\u001b[1m[\u001b[0m\u001b[34;49mnotice\u001b[0m\u001b[1;39;49m]\u001b[0m\u001b[39;49m A new release of pip available: \u001b[0m\u001b[31;49m22.3\u001b[0m\u001b[39;49m -> \u001b[0m\u001b[32;49m22.3.1\u001b[0m\n",
      "\u001b[1m[\u001b[0m\u001b[34;49mnotice\u001b[0m\u001b[1;39;49m]\u001b[0m\u001b[39;49m To update, run: \u001b[0m\u001b[32;49mpython3 -m pip install --upgrade pip\u001b[0m\n",
      "Note: you may need to restart the kernel to use updated packages.\n"
     ]
    }
   ],
   "source": [
    "pip install pyspark #need spark 3.3 "
   ]
  },
  {
   "cell_type": "code",
   "execution_count": null,
   "metadata": {},
   "outputs": [],
   "source": []
  },
  {
   "cell_type": "code",
   "execution_count": 29,
   "metadata": {},
   "outputs": [
    {
     "name": "stdout",
     "output_type": "stream",
     "text": [
      "Collecting seaborn\n",
      "  Downloading seaborn-0.12.1-py3-none-any.whl (288 kB)\n",
      "\u001b[2K     \u001b[90m━━━━━━━━━━━━━━━━━━━━━━━━━━━━━━━━━━━━━━━\u001b[0m \u001b[32m288.2/288.2 kB\u001b[0m \u001b[31m2.6 MB/s\u001b[0m eta \u001b[36m0:00:00\u001b[0ma \u001b[36m0:00:01\u001b[0m\n",
      "\u001b[?25hCollecting matplotlib!=3.6.1,>=3.1\n",
      "  Downloading matplotlib-3.6.2-cp39-cp39-manylinux_2_17_x86_64.manylinux2014_x86_64.whl (11.8 MB)\n",
      "\u001b[2K     \u001b[90m━━━━━━━━━━━━━━━━━━━━━━━━━━━━━━━━━━━━━━━━\u001b[0m \u001b[32m11.8/11.8 MB\u001b[0m \u001b[31m6.0 MB/s\u001b[0m eta \u001b[36m0:00:00\u001b[0m00:01\u001b[0m00:01\u001b[0m\n",
      "\u001b[?25hRequirement already satisfied: numpy>=1.17 in /usr/local/lib/python3.9/dist-packages (from seaborn) (1.23.4)\n",
      "Requirement already satisfied: pandas>=0.25 in /usr/local/lib/python3.9/dist-packages (from seaborn) (1.5.1)\n",
      "Collecting contourpy>=1.0.1\n",
      "  Downloading contourpy-1.0.6-cp39-cp39-manylinux_2_17_x86_64.manylinux2014_x86_64.whl (296 kB)\n",
      "\u001b[2K     \u001b[90m━━━━━━━━━━━━━━━━━━━━━━━━━━━━━━━━━━━━━━\u001b[0m \u001b[32m296.3/296.3 kB\u001b[0m \u001b[31m13.6 MB/s\u001b[0m eta \u001b[36m0:00:00\u001b[0m\n",
      "\u001b[?25hCollecting pillow>=6.2.0\n",
      "  Downloading Pillow-9.3.0-cp39-cp39-manylinux_2_28_x86_64.whl (3.3 MB)\n",
      "\u001b[2K     \u001b[90m━━━━━━━━━━━━━━━━━━━━━━━━━━━━━━━━━━━━━━━━\u001b[0m \u001b[32m3.3/3.3 MB\u001b[0m \u001b[31m6.7 MB/s\u001b[0m eta \u001b[36m0:00:00\u001b[0m:00:01\u001b[0m00:01\u001b[0m\n",
      "\u001b[?25hRequirement already satisfied: pyparsing>=2.2.1 in /usr/local/lib/python3.9/dist-packages (from matplotlib!=3.6.1,>=3.1->seaborn) (3.0.9)\n",
      "Collecting fonttools>=4.22.0\n",
      "  Downloading fonttools-4.38.0-py3-none-any.whl (965 kB)\n",
      "\u001b[2K     \u001b[90m━━━━━━━━━━━━━━━━━━━━━━━━━━━━━━━━━━━━━━━\u001b[0m \u001b[32m965.4/965.4 kB\u001b[0m \u001b[31m6.7 MB/s\u001b[0m eta \u001b[36m0:00:00\u001b[0m00:01\u001b[0m00:01\u001b[0m\n",
      "\u001b[?25hCollecting kiwisolver>=1.0.1\n",
      "  Downloading kiwisolver-1.4.4-cp39-cp39-manylinux_2_12_x86_64.manylinux2010_x86_64.whl (1.6 MB)\n",
      "\u001b[2K     \u001b[90m━━━━━━━━━━━━━━━━━━━━━━━━━━━━━━━━━━━━━━━━\u001b[0m \u001b[32m1.6/1.6 MB\u001b[0m \u001b[31m6.8 MB/s\u001b[0m eta \u001b[36m0:00:00\u001b[0m00:01\u001b[0m00:01\u001b[0m\n",
      "\u001b[?25hRequirement already satisfied: python-dateutil>=2.7 in /usr/local/lib/python3.9/dist-packages (from matplotlib!=3.6.1,>=3.1->seaborn) (2.8.2)\n",
      "Requirement already satisfied: packaging>=20.0 in /usr/local/lib/python3.9/dist-packages (from matplotlib!=3.6.1,>=3.1->seaborn) (21.3)\n",
      "Collecting cycler>=0.10\n",
      "  Downloading cycler-0.11.0-py3-none-any.whl (6.4 kB)\n",
      "Requirement already satisfied: pytz>=2020.1 in /usr/local/lib/python3.9/dist-packages (from pandas>=0.25->seaborn) (2022.5)\n",
      "Requirement already satisfied: six>=1.5 in /usr/local/lib/python3.9/dist-packages (from python-dateutil>=2.7->matplotlib!=3.6.1,>=3.1->seaborn) (1.16.0)\n",
      "Installing collected packages: pillow, kiwisolver, fonttools, cycler, contourpy, matplotlib, seaborn\n",
      "Successfully installed contourpy-1.0.6 cycler-0.11.0 fonttools-4.38.0 kiwisolver-1.4.4 matplotlib-3.6.2 pillow-9.3.0 seaborn-0.12.1\n",
      "\u001b[33mWARNING: Running pip as the 'root' user can result in broken permissions and conflicting behaviour with the system package manager. It is recommended to use a virtual environment instead: https://pip.pypa.io/warnings/venv\u001b[0m\u001b[33m\n",
      "\u001b[0m\n",
      "\u001b[1m[\u001b[0m\u001b[34;49mnotice\u001b[0m\u001b[1;39;49m]\u001b[0m\u001b[39;49m A new release of pip available: \u001b[0m\u001b[31;49m22.3\u001b[0m\u001b[39;49m -> \u001b[0m\u001b[32;49m22.3.1\u001b[0m\n",
      "\u001b[1m[\u001b[0m\u001b[34;49mnotice\u001b[0m\u001b[1;39;49m]\u001b[0m\u001b[39;49m To update, run: \u001b[0m\u001b[32;49mpython3 -m pip install --upgrade pip\u001b[0m\n",
      "Note: you may need to restart the kernel to use updated packages.\n"
     ]
    }
   ],
   "source": [
    "pip install seaborn"
   ]
  },
  {
   "cell_type": "code",
   "execution_count": 30,
   "metadata": {},
   "outputs": [
    {
     "data": {
      "text/plain": [
       "<AxesSubplot: xlabel='agglomeration', ylabel='locm2'>"
      ]
     },
     "execution_count": 30,
     "metadata": {},
     "output_type": "execute_result"
    },
    {
     "data": {
      "image/png": "[encoded data removed]",
      "text/plain": [
       "<Figure size 640x480 with 1 Axes>"
      ]
     },
     "metadata": {},
     "output_type": "display_data"
    }
   ],
   "source": [
    "import seaborn as sns\n",
    "sns.set_theme()\n",
    "sns.barplot(\n",
    "    data = locPN,\n",
    "    y=\"locm2\",\n",
    "    x=\"agglomeration\",\n",
    ")"
   ]
  },
  {
   "cell_type": "code",
   "execution_count": 59,
   "metadata": {},
   "outputs": [
    {
     "name": "stdin",
     "output_type": "stream",
     "text": [
      "entrer la 1ére ville Nice\n"
     ]
    },
    {
     "ename": "TypeError",
     "evalue": "'bool' object is not callable",
     "output_type": "error",
     "traceback": [
      "\u001b[0;31m---------------------------------------------------------------------------\u001b[0m",
      "\u001b[0;31mTypeError\u001b[0m                                 Traceback (most recent call last)",
      "Cell \u001b[0;32mIn [59], line 3\u001b[0m\n\u001b[1;32m      1\u001b[0m c\u001b[38;5;241m=\u001b[39m\u001b[38;5;28mstr\u001b[39m(\u001b[38;5;28minput\u001b[39m(\u001b[38;5;124m\"\u001b[39m\u001b[38;5;124mentrer la 1ére ville\u001b[39m\u001b[38;5;124m\"\u001b[39m))\n\u001b[1;32m      2\u001b[0m locVille\u001b[38;5;241m=\u001b[39mlocPN[locPN[\u001b[38;5;124m'\u001b[39m\u001b[38;5;124magglomeration\u001b[39m\u001b[38;5;124m'\u001b[39m] \u001b[38;5;241m==\u001b[39m c]\n\u001b[0;32m----> 3\u001b[0m \u001b[38;5;28;01mif\u001b[39;00m(\u001b[43m(\u001b[49m\u001b[43mlocPN\u001b[49m\u001b[38;5;241;43m.\u001b[39;49m\u001b[43mfilter\u001b[49m\u001b[43m(\u001b[49m\u001b[38;5;124;43m'\u001b[39;49m\u001b[38;5;124;43mlocVille\u001b[39;49m\u001b[38;5;124;43m'\u001b[39;49m\u001b[43m)\u001b[49m\u001b[43m)\u001b[49m\u001b[38;5;241;43m.\u001b[39;49m\u001b[43mempty\u001b[49m\u001b[43m(\u001b[49m\u001b[43m)\u001b[49m):\n\u001b[1;32m      4\u001b[0m     \u001b[38;5;124m\"\u001b[39m\u001b[38;5;124mVille pas en base\u001b[39m\u001b[38;5;124m\"\u001b[39m\n\u001b[1;32m      5\u001b[0m \u001b[38;5;28;01melse\u001b[39;00m:\n",
      "\u001b[0;31mTypeError\u001b[0m: 'bool' object is not callable"
     ]
    }
   ],
   "source": [
    "c=str(input(\"entrer la 1ére ville\"))\n",
    "locVille=locPN[locPN['agglomeration'] == c]\n",
    "if((locPN.filter('locVille')).empty()):\n",
    "    \"Ville pas en base\"\n",
    "else:\n",
    "    sns.barplot(x = 'agglomeration',\n",
    "            y = 'locm2',\n",
    "            data = locVille)\n"
   ]
  },
  {
   "cell_type": "code",
   "execution_count": null,
   "metadata": {},
   "outputs": [],
   "source": []
  }
 ],
 "metadata": {
  "kernelspec": {
   "display_name": "Python 3 (ipykernel)",
   "language": "python",
   "name": "python3"
  },
  "language_info": {
   "codemirror_mode": {
    "name": "ipython",
    "version": 3
   },
   "file_extension": ".py",
   "mimetype": "text/x-python",
   "name": "python",
   "nbconvert_exporter": "python",
   "pygments_lexer": "ipython3",
   "version": "3.9.2"
  },
  "varInspector": {
   "cols": {
    "lenName": 16,
    "lenType": 16,
    "lenVar": 40
   },
   "kernels_config": {
    "python": {
     "delete_cmd_postfix": "",
     "delete_cmd_prefix": "del ",
     "library": "var_list.py",
     "varRefreshCmd": "print(var_dic_list())"
    },
    "r": {
     "delete_cmd_postfix": ") ",
     "delete_cmd_prefix": "rm(",
     "library": "var_list.r",
     "varRefreshCmd": "cat(var_dic_list()) "
    }
   },
   "types_to_exclude": [
    "module",
    "function",
    "builtin_function_or_method",
    "instance",
    "_Feature"
   ],
   "window_display": false
  }
 },
 "nbformat": 4,
 "nbformat_minor": 4
}
